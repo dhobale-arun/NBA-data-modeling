{
 "cells": [
  {
   "cell_type": "markdown",
   "metadata": {},
   "source": [
    "1.\tWhat is your project topic?  Briefly summarize what you’re trying to accomplish\n",
    "\n",
    "Ans - \tI tried to build a classification model to predict the win probability from number of variables for Philadelphia 76ers (NBA team)\n",
    "\n",
    "\n",
    "\n",
    "2.\tWhat were the “results” of your work?  (What does your software package “do”, or what were the relevant evaluation metrics for your model, or what were the relationships between variables you were exploring, etc.)\n",
    "\n",
    "Ans - The results of my work would be a fitted statistical model. The same model can be used to predict the win probability given that we have the variables that have been used while building the model.\n",
    "\n",
    "\n",
    "3.\tWhat would the next logical step be in this exploration?\n",
    "\n",
    "Ans - The next logical step would be to get more robust data (data about the players or even more advanced metrics). This would definitely help in improving the predictive power of the model and build an even better model that discussed in the project submission.\n",
    "\n",
    "\n",
    "4.\tWhat did you find difficult to do during the project?\n",
    "\n",
    "Ans - The most difficult part of the project was data cleaning and data manipulation. Since there were both continuous and categorical variables, both had to be wrangled differently. It also varied for different statistical model. \n",
    "\n",
    "\n",
    "5.\tWhat topic did you wish you were more knowledgeable about/what would have been handy to know while you were doing the project?\n",
    "\n",
    "Ans - It would have been handy if I knew an existing model to baseline upon, I would have then known the variables of importance and thus would have helped to design a better model. More domain knowledge in terms of analytics in NBA would have also helped."
   ]
  },
  {
   "cell_type": "code",
   "execution_count": null,
   "metadata": {},
   "outputs": [],
   "source": [
    "import pandas as pd\n",
    "import numpy as np\n",
    "import matplotlib.pyplot as plt"
   ]
  },
  {
   "cell_type": "markdown",
   "metadata": {},
   "source": [
    "# Getting NBA dataset from 2004 till today"
   ]
  },
  {
   "cell_type": "code",
   "execution_count": 360,
   "metadata": {},
   "outputs": [],
   "source": [
    "df = pd.read_csv(\"games.csv\")"
   ]
  },
  {
   "cell_type": "code",
   "execution_count": 361,
   "metadata": {},
   "outputs": [
    {
     "data": {
      "text/html": [
       "<div>\n",
       "<style scoped>\n",
       "    .dataframe tbody tr th:only-of-type {\n",
       "        vertical-align: middle;\n",
       "    }\n",
       "\n",
       "    .dataframe tbody tr th {\n",
       "        vertical-align: top;\n",
       "    }\n",
       "\n",
       "    .dataframe thead th {\n",
       "        text-align: right;\n",
       "    }\n",
       "</style>\n",
       "<table border=\"1\" class=\"dataframe\">\n",
       "  <thead>\n",
       "    <tr style=\"text-align: right;\">\n",
       "      <th></th>\n",
       "      <th>GAME_DATE_EST</th>\n",
       "      <th>GAME_ID</th>\n",
       "      <th>GAME_STATUS_TEXT</th>\n",
       "      <th>HOME_TEAM_ID</th>\n",
       "      <th>VISITOR_TEAM_ID</th>\n",
       "      <th>SEASON</th>\n",
       "      <th>TEAM_ID_home</th>\n",
       "      <th>PTS_home</th>\n",
       "      <th>FG_PCT_home</th>\n",
       "      <th>FT_PCT_home</th>\n",
       "      <th>...</th>\n",
       "      <th>AST_home</th>\n",
       "      <th>REB_home</th>\n",
       "      <th>TEAM_ID_away</th>\n",
       "      <th>PTS_away</th>\n",
       "      <th>FG_PCT_away</th>\n",
       "      <th>FT_PCT_away</th>\n",
       "      <th>FG3_PCT_away</th>\n",
       "      <th>AST_away</th>\n",
       "      <th>REB_away</th>\n",
       "      <th>HOME_TEAM_WINS</th>\n",
       "    </tr>\n",
       "  </thead>\n",
       "  <tbody>\n",
       "    <tr>\n",
       "      <th>0</th>\n",
       "      <td>2020-03-01</td>\n",
       "      <td>21900895</td>\n",
       "      <td>Final</td>\n",
       "      <td>1610612766</td>\n",
       "      <td>1610612749</td>\n",
       "      <td>2019</td>\n",
       "      <td>1610612766</td>\n",
       "      <td>85.0</td>\n",
       "      <td>0.354</td>\n",
       "      <td>0.900</td>\n",
       "      <td>...</td>\n",
       "      <td>22.0</td>\n",
       "      <td>47.0</td>\n",
       "      <td>1610612749</td>\n",
       "      <td>93.0</td>\n",
       "      <td>0.402</td>\n",
       "      <td>0.762</td>\n",
       "      <td>0.226</td>\n",
       "      <td>20.0</td>\n",
       "      <td>61.0</td>\n",
       "      <td>0</td>\n",
       "    </tr>\n",
       "    <tr>\n",
       "      <th>1</th>\n",
       "      <td>2020-03-01</td>\n",
       "      <td>21900896</td>\n",
       "      <td>Final</td>\n",
       "      <td>1610612750</td>\n",
       "      <td>1610612742</td>\n",
       "      <td>2019</td>\n",
       "      <td>1610612750</td>\n",
       "      <td>91.0</td>\n",
       "      <td>0.364</td>\n",
       "      <td>0.400</td>\n",
       "      <td>...</td>\n",
       "      <td>19.0</td>\n",
       "      <td>57.0</td>\n",
       "      <td>1610612742</td>\n",
       "      <td>111.0</td>\n",
       "      <td>0.468</td>\n",
       "      <td>0.632</td>\n",
       "      <td>0.275</td>\n",
       "      <td>28.0</td>\n",
       "      <td>56.0</td>\n",
       "      <td>0</td>\n",
       "    </tr>\n",
       "    <tr>\n",
       "      <th>2</th>\n",
       "      <td>2020-03-01</td>\n",
       "      <td>21900897</td>\n",
       "      <td>Final</td>\n",
       "      <td>1610612746</td>\n",
       "      <td>1610612755</td>\n",
       "      <td>2019</td>\n",
       "      <td>1610612746</td>\n",
       "      <td>136.0</td>\n",
       "      <td>0.592</td>\n",
       "      <td>0.805</td>\n",
       "      <td>...</td>\n",
       "      <td>25.0</td>\n",
       "      <td>37.0</td>\n",
       "      <td>1610612755</td>\n",
       "      <td>130.0</td>\n",
       "      <td>0.505</td>\n",
       "      <td>0.650</td>\n",
       "      <td>0.488</td>\n",
       "      <td>27.0</td>\n",
       "      <td>37.0</td>\n",
       "      <td>1</td>\n",
       "    </tr>\n",
       "    <tr>\n",
       "      <th>3</th>\n",
       "      <td>2020-03-01</td>\n",
       "      <td>21900898</td>\n",
       "      <td>Final</td>\n",
       "      <td>1610612743</td>\n",
       "      <td>1610612761</td>\n",
       "      <td>2019</td>\n",
       "      <td>1610612743</td>\n",
       "      <td>133.0</td>\n",
       "      <td>0.566</td>\n",
       "      <td>0.700</td>\n",
       "      <td>...</td>\n",
       "      <td>38.0</td>\n",
       "      <td>41.0</td>\n",
       "      <td>1610612761</td>\n",
       "      <td>118.0</td>\n",
       "      <td>0.461</td>\n",
       "      <td>0.897</td>\n",
       "      <td>0.263</td>\n",
       "      <td>24.0</td>\n",
       "      <td>36.0</td>\n",
       "      <td>1</td>\n",
       "    </tr>\n",
       "    <tr>\n",
       "      <th>4</th>\n",
       "      <td>2020-03-01</td>\n",
       "      <td>21900899</td>\n",
       "      <td>Final</td>\n",
       "      <td>1610612758</td>\n",
       "      <td>1610612765</td>\n",
       "      <td>2019</td>\n",
       "      <td>1610612758</td>\n",
       "      <td>106.0</td>\n",
       "      <td>0.407</td>\n",
       "      <td>0.885</td>\n",
       "      <td>...</td>\n",
       "      <td>18.0</td>\n",
       "      <td>51.0</td>\n",
       "      <td>1610612765</td>\n",
       "      <td>100.0</td>\n",
       "      <td>0.413</td>\n",
       "      <td>0.667</td>\n",
       "      <td>0.429</td>\n",
       "      <td>23.0</td>\n",
       "      <td>42.0</td>\n",
       "      <td>1</td>\n",
       "    </tr>\n",
       "  </tbody>\n",
       "</table>\n",
       "<p>5 rows × 21 columns</p>\n",
       "</div>"
      ],
      "text/plain": [
       "  GAME_DATE_EST   GAME_ID GAME_STATUS_TEXT  HOME_TEAM_ID  VISITOR_TEAM_ID  \\\n",
       "0    2020-03-01  21900895            Final    1610612766       1610612749   \n",
       "1    2020-03-01  21900896            Final    1610612750       1610612742   \n",
       "2    2020-03-01  21900897            Final    1610612746       1610612755   \n",
       "3    2020-03-01  21900898            Final    1610612743       1610612761   \n",
       "4    2020-03-01  21900899            Final    1610612758       1610612765   \n",
       "\n",
       "   SEASON  TEAM_ID_home  PTS_home  FG_PCT_home  FT_PCT_home  ...  AST_home  \\\n",
       "0    2019    1610612766      85.0        0.354        0.900  ...      22.0   \n",
       "1    2019    1610612750      91.0        0.364        0.400  ...      19.0   \n",
       "2    2019    1610612746     136.0        0.592        0.805  ...      25.0   \n",
       "3    2019    1610612743     133.0        0.566        0.700  ...      38.0   \n",
       "4    2019    1610612758     106.0        0.407        0.885  ...      18.0   \n",
       "\n",
       "   REB_home  TEAM_ID_away  PTS_away  FG_PCT_away  FT_PCT_away  FG3_PCT_away  \\\n",
       "0      47.0    1610612749      93.0        0.402        0.762         0.226   \n",
       "1      57.0    1610612742     111.0        0.468        0.632         0.275   \n",
       "2      37.0    1610612755     130.0        0.505        0.650         0.488   \n",
       "3      41.0    1610612761     118.0        0.461        0.897         0.263   \n",
       "4      51.0    1610612765     100.0        0.413        0.667         0.429   \n",
       "\n",
       "   AST_away  REB_away  HOME_TEAM_WINS  \n",
       "0      20.0      61.0               0  \n",
       "1      28.0      56.0               0  \n",
       "2      27.0      37.0               1  \n",
       "3      24.0      36.0               1  \n",
       "4      23.0      42.0               1  \n",
       "\n",
       "[5 rows x 21 columns]"
      ]
     },
     "execution_count": 361,
     "metadata": {},
     "output_type": "execute_result"
    }
   ],
   "source": [
    "df.head()"
   ]
  },
  {
   "cell_type": "code",
   "execution_count": 362,
   "metadata": {},
   "outputs": [
    {
     "data": {
      "text/plain": [
       "(23195, 21)"
      ]
     },
     "execution_count": 362,
     "metadata": {},
     "output_type": "execute_result"
    }
   ],
   "source": [
    "df.shape"
   ]
  },
  {
   "cell_type": "markdown",
   "metadata": {},
   "source": [
    "Analyzing data for Philadelphia 76ers"
   ]
  },
  {
   "cell_type": "code",
   "execution_count": 363,
   "metadata": {},
   "outputs": [],
   "source": [
    "#getting the team id for phildelphia 76ers from a different table\n",
    "phi_df = df[(df['HOME_TEAM_ID'] == 1610612755) | (df['VISITOR_TEAM_ID'] == 1610612755)]"
   ]
  },
  {
   "cell_type": "markdown",
   "metadata": {},
   "source": [
    "Subsetting Philadelphia 76ers data from the main dataset"
   ]
  },
  {
   "cell_type": "code",
   "execution_count": 364,
   "metadata": {},
   "outputs": [
    {
     "data": {
      "text/plain": [
       "(1514, 21)"
      ]
     },
     "execution_count": 364,
     "metadata": {},
     "output_type": "execute_result"
    }
   ],
   "source": [
    "phi_df.shape"
   ]
  },
  {
   "cell_type": "markdown",
   "metadata": {},
   "source": [
    "# Looking at the data model"
   ]
  },
  {
   "cell_type": "code",
   "execution_count": 365,
   "metadata": {},
   "outputs": [
    {
     "data": {
      "text/html": [
       "<div>\n",
       "<style scoped>\n",
       "    .dataframe tbody tr th:only-of-type {\n",
       "        vertical-align: middle;\n",
       "    }\n",
       "\n",
       "    .dataframe tbody tr th {\n",
       "        vertical-align: top;\n",
       "    }\n",
       "\n",
       "    .dataframe thead th {\n",
       "        text-align: right;\n",
       "    }\n",
       "</style>\n",
       "<table border=\"1\" class=\"dataframe\">\n",
       "  <thead>\n",
       "    <tr style=\"text-align: right;\">\n",
       "      <th></th>\n",
       "      <th>2</th>\n",
       "      <th>25</th>\n",
       "      <th>30</th>\n",
       "      <th>46</th>\n",
       "      <th>65</th>\n",
       "    </tr>\n",
       "  </thead>\n",
       "  <tbody>\n",
       "    <tr>\n",
       "      <th>GAME_DATE_EST</th>\n",
       "      <td>2020-03-01</td>\n",
       "      <td>2020-02-27</td>\n",
       "      <td>2020-02-26</td>\n",
       "      <td>2020-02-24</td>\n",
       "      <td>2020-02-22</td>\n",
       "    </tr>\n",
       "    <tr>\n",
       "      <th>GAME_ID</th>\n",
       "      <td>21900897</td>\n",
       "      <td>21900873</td>\n",
       "      <td>21900865</td>\n",
       "      <td>21900850</td>\n",
       "      <td>21900840</td>\n",
       "    </tr>\n",
       "    <tr>\n",
       "      <th>GAME_STATUS_TEXT</th>\n",
       "      <td>Final</td>\n",
       "      <td>Final</td>\n",
       "      <td>Final</td>\n",
       "      <td>Final</td>\n",
       "      <td>Final</td>\n",
       "    </tr>\n",
       "    <tr>\n",
       "      <th>HOME_TEAM_ID</th>\n",
       "      <td>1610612746</td>\n",
       "      <td>1610612755</td>\n",
       "      <td>1610612739</td>\n",
       "      <td>1610612755</td>\n",
       "      <td>1610612749</td>\n",
       "    </tr>\n",
       "    <tr>\n",
       "      <th>VISITOR_TEAM_ID</th>\n",
       "      <td>1610612755</td>\n",
       "      <td>1610612752</td>\n",
       "      <td>1610612755</td>\n",
       "      <td>1610612737</td>\n",
       "      <td>1610612755</td>\n",
       "    </tr>\n",
       "    <tr>\n",
       "      <th>SEASON</th>\n",
       "      <td>2019</td>\n",
       "      <td>2019</td>\n",
       "      <td>2019</td>\n",
       "      <td>2019</td>\n",
       "      <td>2019</td>\n",
       "    </tr>\n",
       "    <tr>\n",
       "      <th>TEAM_ID_home</th>\n",
       "      <td>1610612746</td>\n",
       "      <td>1610612755</td>\n",
       "      <td>1610612739</td>\n",
       "      <td>1610612755</td>\n",
       "      <td>1610612749</td>\n",
       "    </tr>\n",
       "    <tr>\n",
       "      <th>PTS_home</th>\n",
       "      <td>136</td>\n",
       "      <td>115</td>\n",
       "      <td>108</td>\n",
       "      <td>129</td>\n",
       "      <td>119</td>\n",
       "    </tr>\n",
       "    <tr>\n",
       "      <th>FG_PCT_home</th>\n",
       "      <td>0.592</td>\n",
       "      <td>0.495</td>\n",
       "      <td>0.526</td>\n",
       "      <td>0.511</td>\n",
       "      <td>0.527</td>\n",
       "    </tr>\n",
       "    <tr>\n",
       "      <th>FT_PCT_home</th>\n",
       "      <td>0.805</td>\n",
       "      <td>0.769</td>\n",
       "      <td>0.882</td>\n",
       "      <td>0.9</td>\n",
       "      <td>0.692</td>\n",
       "    </tr>\n",
       "    <tr>\n",
       "      <th>FG3_PCT_home</th>\n",
       "      <td>0.542</td>\n",
       "      <td>0.484</td>\n",
       "      <td>0.458</td>\n",
       "      <td>0.4</td>\n",
       "      <td>0.341</td>\n",
       "    </tr>\n",
       "    <tr>\n",
       "      <th>AST_home</th>\n",
       "      <td>25</td>\n",
       "      <td>32</td>\n",
       "      <td>24</td>\n",
       "      <td>27</td>\n",
       "      <td>35</td>\n",
       "    </tr>\n",
       "    <tr>\n",
       "      <th>REB_home</th>\n",
       "      <td>37</td>\n",
       "      <td>44</td>\n",
       "      <td>48</td>\n",
       "      <td>48</td>\n",
       "      <td>57</td>\n",
       "    </tr>\n",
       "    <tr>\n",
       "      <th>TEAM_ID_away</th>\n",
       "      <td>1610612755</td>\n",
       "      <td>1610612752</td>\n",
       "      <td>1610612755</td>\n",
       "      <td>1610612737</td>\n",
       "      <td>1610612755</td>\n",
       "    </tr>\n",
       "    <tr>\n",
       "      <th>PTS_away</th>\n",
       "      <td>130</td>\n",
       "      <td>106</td>\n",
       "      <td>94</td>\n",
       "      <td>112</td>\n",
       "      <td>98</td>\n",
       "    </tr>\n",
       "    <tr>\n",
       "      <th>FG_PCT_away</th>\n",
       "      <td>0.505</td>\n",
       "      <td>0.506</td>\n",
       "      <td>0.404</td>\n",
       "      <td>0.412</td>\n",
       "      <td>0.354</td>\n",
       "    </tr>\n",
       "    <tr>\n",
       "      <th>FT_PCT_away</th>\n",
       "      <td>0.65</td>\n",
       "      <td>0.583</td>\n",
       "      <td>0.643</td>\n",
       "      <td>0.889</td>\n",
       "      <td>0.833</td>\n",
       "    </tr>\n",
       "    <tr>\n",
       "      <th>FG3_PCT_away</th>\n",
       "      <td>0.488</td>\n",
       "      <td>0.348</td>\n",
       "      <td>0.342</td>\n",
       "      <td>0.211</td>\n",
       "      <td>0.342</td>\n",
       "    </tr>\n",
       "    <tr>\n",
       "      <th>AST_away</th>\n",
       "      <td>27</td>\n",
       "      <td>28</td>\n",
       "      <td>22</td>\n",
       "      <td>19</td>\n",
       "      <td>17</td>\n",
       "    </tr>\n",
       "    <tr>\n",
       "      <th>REB_away</th>\n",
       "      <td>37</td>\n",
       "      <td>39</td>\n",
       "      <td>31</td>\n",
       "      <td>44</td>\n",
       "      <td>43</td>\n",
       "    </tr>\n",
       "    <tr>\n",
       "      <th>HOME_TEAM_WINS</th>\n",
       "      <td>1</td>\n",
       "      <td>1</td>\n",
       "      <td>1</td>\n",
       "      <td>1</td>\n",
       "      <td>1</td>\n",
       "    </tr>\n",
       "  </tbody>\n",
       "</table>\n",
       "</div>"
      ],
      "text/plain": [
       "                          2           25          30          46          65\n",
       "GAME_DATE_EST     2020-03-01  2020-02-27  2020-02-26  2020-02-24  2020-02-22\n",
       "GAME_ID             21900897    21900873    21900865    21900850    21900840\n",
       "GAME_STATUS_TEXT       Final       Final       Final       Final       Final\n",
       "HOME_TEAM_ID      1610612746  1610612755  1610612739  1610612755  1610612749\n",
       "VISITOR_TEAM_ID   1610612755  1610612752  1610612755  1610612737  1610612755\n",
       "SEASON                  2019        2019        2019        2019        2019\n",
       "TEAM_ID_home      1610612746  1610612755  1610612739  1610612755  1610612749\n",
       "PTS_home                 136         115         108         129         119\n",
       "FG_PCT_home            0.592       0.495       0.526       0.511       0.527\n",
       "FT_PCT_home            0.805       0.769       0.882         0.9       0.692\n",
       "FG3_PCT_home           0.542       0.484       0.458         0.4       0.341\n",
       "AST_home                  25          32          24          27          35\n",
       "REB_home                  37          44          48          48          57\n",
       "TEAM_ID_away      1610612755  1610612752  1610612755  1610612737  1610612755\n",
       "PTS_away                 130         106          94         112          98\n",
       "FG_PCT_away            0.505       0.506       0.404       0.412       0.354\n",
       "FT_PCT_away             0.65       0.583       0.643       0.889       0.833\n",
       "FG3_PCT_away           0.488       0.348       0.342       0.211       0.342\n",
       "AST_away                  27          28          22          19          17\n",
       "REB_away                  37          39          31          44          43\n",
       "HOME_TEAM_WINS             1           1           1           1           1"
      ]
     },
     "execution_count": 365,
     "metadata": {},
     "output_type": "execute_result"
    }
   ],
   "source": [
    "phi_df.head().T"
   ]
  },
  {
   "cell_type": "code",
   "execution_count": 366,
   "metadata": {},
   "outputs": [
    {
     "name": "stderr",
     "output_type": "stream",
     "text": [
      "/Users/apple/opt/anaconda3/lib/python3.7/site-packages/pandas/core/indexing.py:1596: SettingWithCopyWarning: \n",
      "A value is trying to be set on a copy of a slice from a DataFrame.\n",
      "Try using .loc[row_indexer,col_indexer] = value instead\n",
      "\n",
      "See the caveats in the documentation: https://pandas.pydata.org/pandas-docs/stable/user_guide/indexing.html#returning-a-view-versus-a-copy\n",
      "  self.obj[key] = _infer_fill_value(value)\n",
      "/Users/apple/opt/anaconda3/lib/python3.7/site-packages/pandas/core/indexing.py:1745: SettingWithCopyWarning: \n",
      "A value is trying to be set on a copy of a slice from a DataFrame.\n",
      "Try using .loc[row_indexer,col_indexer] = value instead\n",
      "\n",
      "See the caveats in the documentation: https://pandas.pydata.org/pandas-docs/stable/user_guide/indexing.html#returning-a-view-versus-a-copy\n",
      "  isetter(ilocs[0], value)\n"
     ]
    }
   ],
   "source": [
    "# phi_df[['AST_home','HOME_TEAM_WINS','PTS_home']].groupby(['AST_home','HOME_TEAM_WINS']).mean()\n",
    "# phi_df[['HOME_TEAM_WINS','PTS_home']].groupby('HOME_TEAM_WINS').mean()\n",
    "# phi_df.groupby('HOME_TEAM_WINS').mean()\n",
    "# phi_df['HOME_TEAM_WINS'].value_counts()\n",
    "# phi_df['HOME_TEAM_WINS'].nunique()\n",
    "# phi_df.nunique()\n",
    "# phi_df[['AST_home','PTS_home']].groupby('AST_home').mean().sort_values('PTS_home', ascending = False)\n",
    "phi_df.loc[:,'Points_diff'] = phi_df.loc[:,'PTS_home'] - phi_df.loc[:,'PTS_away']"
   ]
  },
  {
   "cell_type": "markdown",
   "metadata": {},
   "source": [
    "The dataset has the win variable (1,0) which will be used to build a classification model in the upcoming exercises.\n",
    "\n",
    "Right now, just plotting out different plots between variables and finding out relations"
   ]
  },
  {
   "cell_type": "code",
   "execution_count": 367,
   "metadata": {},
   "outputs": [
    {
     "data": {
      "image/png": "[encoded data removed]",
      "text/plain": [
       "<Figure size 432x288 with 1 Axes>"
      ]
     },
     "metadata": {
      "needs_background": "light"
     },
     "output_type": "display_data"
    }
   ],
   "source": [
    "plt.figure()\n",
    "plt.bar('Points_diff','HOME_TEAM_WINS', data = phi_df)\n",
    "plt.xlabel('Difference of points')\n",
    "plt.ylabel('Home team wins')\n",
    "plt.show()"
   ]
  },
  {
   "cell_type": "markdown",
   "metadata": {},
   "source": [
    "There is an uneven between the number of wins against the points differential. The number of wins are clustered into two sections. A lot of wins are clustered in around 10 points differential and rest of the other wins are clustered after 20 points difference. This is a really interesting analysis."
   ]
  },
  {
   "cell_type": "code",
   "execution_count": 368,
   "metadata": {},
   "outputs": [
    {
     "data": {
      "text/plain": [
       "<Figure size 432x288 with 0 Axes>"
      ]
     },
     "metadata": {},
     "output_type": "display_data"
    },
    {
     "data": {
      "image/png": "[encoded data removed]",
      "text/plain": [
       "<Figure size 432x288 with 1 Axes>"
      ]
     },
     "metadata": {
      "needs_background": "light"
     },
     "output_type": "display_data"
    }
   ],
   "source": [
    "plt.figure()\n",
    "phi_df.plot(kind ='scatter', x='AST_home', y = 'PTS_home')\n",
    "plt.show()"
   ]
  },
  {
   "cell_type": "markdown",
   "metadata": {},
   "source": [
    "There is a direct correlation between assists and points scored but there is not a strong correlation between rebounds and points scored"
   ]
  },
  {
   "cell_type": "code",
   "execution_count": 369,
   "metadata": {},
   "outputs": [
    {
     "data": {
      "text/plain": [
       "<Figure size 432x288 with 0 Axes>"
      ]
     },
     "metadata": {},
     "output_type": "display_data"
    },
    {
     "data": {
      "image/png": "[encoded data removed]",
      "text/plain": [
       "<Figure size 432x288 with 1 Axes>"
      ]
     },
     "metadata": {
      "needs_background": "light"
     },
     "output_type": "display_data"
    }
   ],
   "source": [
    "plt.figure()\n",
    "phi_df.plot(kind ='scatter', x='REB_home', y = 'PTS_home')\n",
    "plt.show()"
   ]
  },
  {
   "cell_type": "markdown",
   "metadata": {},
   "source": [
    "# Building Logistic Model"
   ]
  },
  {
   "cell_type": "code",
   "execution_count": 370,
   "metadata": {},
   "outputs": [],
   "source": [
    "del phi_df['HOME_TEAM_ID']\n",
    "del phi_df['VISITOR_TEAM_ID']\n",
    "del phi_df['GAME_DATE_EST']\n",
    "del phi_df['GAME_ID']\n",
    "del phi_df['GAME_STATUS_TEXT']"
   ]
  },
  {
   "cell_type": "code",
   "execution_count": 371,
   "metadata": {},
   "outputs": [],
   "source": [
    "phi_df.to_csv('philly.csv')"
   ]
  },
  {
   "cell_type": "code",
   "execution_count": 396,
   "metadata": {},
   "outputs": [],
   "source": [
    "philly = pd.read_csv(\"philly.csv\")"
   ]
  },
  {
   "cell_type": "code",
   "execution_count": 397,
   "metadata": {},
   "outputs": [
    {
     "data": {
      "text/html": [
       "<div>\n",
       "<style scoped>\n",
       "    .dataframe tbody tr th:only-of-type {\n",
       "        vertical-align: middle;\n",
       "    }\n",
       "\n",
       "    .dataframe tbody tr th {\n",
       "        vertical-align: top;\n",
       "    }\n",
       "\n",
       "    .dataframe thead th {\n",
       "        text-align: right;\n",
       "    }\n",
       "</style>\n",
       "<table border=\"1\" class=\"dataframe\">\n",
       "  <thead>\n",
       "    <tr style=\"text-align: right;\">\n",
       "      <th></th>\n",
       "      <th>Unnamed: 0</th>\n",
       "      <th>SEASON</th>\n",
       "      <th>TEAM_ID_home</th>\n",
       "      <th>PTS_home</th>\n",
       "      <th>FG_PCT_home</th>\n",
       "      <th>FT_PCT_home</th>\n",
       "      <th>FG3_PCT_home</th>\n",
       "      <th>AST_home</th>\n",
       "      <th>REB_home</th>\n",
       "      <th>TEAM_ID_away</th>\n",
       "      <th>PTS_away</th>\n",
       "      <th>FG_PCT_away</th>\n",
       "      <th>FT_PCT_away</th>\n",
       "      <th>FG3_PCT_away</th>\n",
       "      <th>AST_away</th>\n",
       "      <th>REB_away</th>\n",
       "      <th>HOME_TEAM_WINS</th>\n",
       "      <th>Points_diff</th>\n",
       "    </tr>\n",
       "  </thead>\n",
       "  <tbody>\n",
       "    <tr>\n",
       "      <th>0</th>\n",
       "      <td>2</td>\n",
       "      <td>2019</td>\n",
       "      <td>1610612746</td>\n",
       "      <td>136.0</td>\n",
       "      <td>0.592</td>\n",
       "      <td>0.805</td>\n",
       "      <td>0.542</td>\n",
       "      <td>25.0</td>\n",
       "      <td>37.0</td>\n",
       "      <td>1610612755</td>\n",
       "      <td>130.0</td>\n",
       "      <td>0.505</td>\n",
       "      <td>0.650</td>\n",
       "      <td>0.488</td>\n",
       "      <td>27.0</td>\n",
       "      <td>37.0</td>\n",
       "      <td>1</td>\n",
       "      <td>6.0</td>\n",
       "    </tr>\n",
       "    <tr>\n",
       "      <th>1</th>\n",
       "      <td>25</td>\n",
       "      <td>2019</td>\n",
       "      <td>1610612755</td>\n",
       "      <td>115.0</td>\n",
       "      <td>0.495</td>\n",
       "      <td>0.769</td>\n",
       "      <td>0.484</td>\n",
       "      <td>32.0</td>\n",
       "      <td>44.0</td>\n",
       "      <td>1610612752</td>\n",
       "      <td>106.0</td>\n",
       "      <td>0.506</td>\n",
       "      <td>0.583</td>\n",
       "      <td>0.348</td>\n",
       "      <td>28.0</td>\n",
       "      <td>39.0</td>\n",
       "      <td>1</td>\n",
       "      <td>9.0</td>\n",
       "    </tr>\n",
       "    <tr>\n",
       "      <th>2</th>\n",
       "      <td>30</td>\n",
       "      <td>2019</td>\n",
       "      <td>1610612739</td>\n",
       "      <td>108.0</td>\n",
       "      <td>0.526</td>\n",
       "      <td>0.882</td>\n",
       "      <td>0.458</td>\n",
       "      <td>24.0</td>\n",
       "      <td>48.0</td>\n",
       "      <td>1610612755</td>\n",
       "      <td>94.0</td>\n",
       "      <td>0.404</td>\n",
       "      <td>0.643</td>\n",
       "      <td>0.342</td>\n",
       "      <td>22.0</td>\n",
       "      <td>31.0</td>\n",
       "      <td>1</td>\n",
       "      <td>14.0</td>\n",
       "    </tr>\n",
       "    <tr>\n",
       "      <th>3</th>\n",
       "      <td>46</td>\n",
       "      <td>2019</td>\n",
       "      <td>1610612755</td>\n",
       "      <td>129.0</td>\n",
       "      <td>0.511</td>\n",
       "      <td>0.900</td>\n",
       "      <td>0.400</td>\n",
       "      <td>27.0</td>\n",
       "      <td>48.0</td>\n",
       "      <td>1610612737</td>\n",
       "      <td>112.0</td>\n",
       "      <td>0.412</td>\n",
       "      <td>0.889</td>\n",
       "      <td>0.211</td>\n",
       "      <td>19.0</td>\n",
       "      <td>44.0</td>\n",
       "      <td>1</td>\n",
       "      <td>17.0</td>\n",
       "    </tr>\n",
       "    <tr>\n",
       "      <th>4</th>\n",
       "      <td>65</td>\n",
       "      <td>2019</td>\n",
       "      <td>1610612749</td>\n",
       "      <td>119.0</td>\n",
       "      <td>0.527</td>\n",
       "      <td>0.692</td>\n",
       "      <td>0.341</td>\n",
       "      <td>35.0</td>\n",
       "      <td>57.0</td>\n",
       "      <td>1610612755</td>\n",
       "      <td>98.0</td>\n",
       "      <td>0.354</td>\n",
       "      <td>0.833</td>\n",
       "      <td>0.342</td>\n",
       "      <td>17.0</td>\n",
       "      <td>43.0</td>\n",
       "      <td>1</td>\n",
       "      <td>21.0</td>\n",
       "    </tr>\n",
       "  </tbody>\n",
       "</table>\n",
       "</div>"
      ],
      "text/plain": [
       "   Unnamed: 0  SEASON  TEAM_ID_home  PTS_home  FG_PCT_home  FT_PCT_home  \\\n",
       "0           2    2019    1610612746     136.0        0.592        0.805   \n",
       "1          25    2019    1610612755     115.0        0.495        0.769   \n",
       "2          30    2019    1610612739     108.0        0.526        0.882   \n",
       "3          46    2019    1610612755     129.0        0.511        0.900   \n",
       "4          65    2019    1610612749     119.0        0.527        0.692   \n",
       "\n",
       "   FG3_PCT_home  AST_home  REB_home  TEAM_ID_away  PTS_away  FG_PCT_away  \\\n",
       "0         0.542      25.0      37.0    1610612755     130.0        0.505   \n",
       "1         0.484      32.0      44.0    1610612752     106.0        0.506   \n",
       "2         0.458      24.0      48.0    1610612755      94.0        0.404   \n",
       "3         0.400      27.0      48.0    1610612737     112.0        0.412   \n",
       "4         0.341      35.0      57.0    1610612755      98.0        0.354   \n",
       "\n",
       "   FT_PCT_away  FG3_PCT_away  AST_away  REB_away  HOME_TEAM_WINS  Points_diff  \n",
       "0        0.650         0.488      27.0      37.0               1          6.0  \n",
       "1        0.583         0.348      28.0      39.0               1          9.0  \n",
       "2        0.643         0.342      22.0      31.0               1         14.0  \n",
       "3        0.889         0.211      19.0      44.0               1         17.0  \n",
       "4        0.833         0.342      17.0      43.0               1         21.0  "
      ]
     },
     "execution_count": 397,
     "metadata": {},
     "output_type": "execute_result"
    }
   ],
   "source": [
    "philly.head()"
   ]
  },
  {
   "cell_type": "code",
   "execution_count": 398,
   "metadata": {},
   "outputs": [],
   "source": [
    "# creating win label variable only for philadelphia 76ers\n",
    "philly['PHI_WIN'] = 0"
   ]
  },
  {
   "cell_type": "code",
   "execution_count": 399,
   "metadata": {},
   "outputs": [],
   "source": [
    "for i in range(philly.shape[0]):\n",
    "    if philly.iloc[i,2] == 1610612755 and philly.iloc[i,16] == 1:\n",
    "        philly.iloc[i,18] = 1\n",
    "    elif philly.iloc[i,9] == 1610612755 and philly.iloc[i,16] == 0:\n",
    "        philly.iloc[i,18] = 1"
   ]
  },
  {
   "cell_type": "code",
   "execution_count": 400,
   "metadata": {},
   "outputs": [
    {
     "data": {
      "text/plain": [
       "0    861\n",
       "1    653\n",
       "Name: PHI_WIN, dtype: int64"
      ]
     },
     "execution_count": 400,
     "metadata": {},
     "output_type": "execute_result"
    }
   ],
   "source": [
    "philly['PHI_WIN'].value_counts()"
   ]
  },
  {
   "cell_type": "code",
   "execution_count": 401,
   "metadata": {},
   "outputs": [
    {
     "data": {
      "text/html": [
       "<div>\n",
       "<style scoped>\n",
       "    .dataframe tbody tr th:only-of-type {\n",
       "        vertical-align: middle;\n",
       "    }\n",
       "\n",
       "    .dataframe tbody tr th {\n",
       "        vertical-align: top;\n",
       "    }\n",
       "\n",
       "    .dataframe thead th {\n",
       "        text-align: right;\n",
       "    }\n",
       "</style>\n",
       "<table border=\"1\" class=\"dataframe\">\n",
       "  <thead>\n",
       "    <tr style=\"text-align: right;\">\n",
       "      <th></th>\n",
       "      <th>Unnamed: 0</th>\n",
       "      <th>TEAM_ID_home</th>\n",
       "      <th>PTS_home</th>\n",
       "      <th>FG_PCT_home</th>\n",
       "      <th>FT_PCT_home</th>\n",
       "      <th>FG3_PCT_home</th>\n",
       "      <th>AST_home</th>\n",
       "      <th>REB_home</th>\n",
       "      <th>TEAM_ID_away</th>\n",
       "      <th>PTS_away</th>\n",
       "      <th>...</th>\n",
       "      <th>2010</th>\n",
       "      <th>2011</th>\n",
       "      <th>2012</th>\n",
       "      <th>2013</th>\n",
       "      <th>2014</th>\n",
       "      <th>2015</th>\n",
       "      <th>2016</th>\n",
       "      <th>2017</th>\n",
       "      <th>2018</th>\n",
       "      <th>2019</th>\n",
       "    </tr>\n",
       "  </thead>\n",
       "  <tbody>\n",
       "    <tr>\n",
       "      <th>0</th>\n",
       "      <td>2</td>\n",
       "      <td>1610612746</td>\n",
       "      <td>136.0</td>\n",
       "      <td>0.592</td>\n",
       "      <td>0.805</td>\n",
       "      <td>0.542</td>\n",
       "      <td>25.0</td>\n",
       "      <td>37.0</td>\n",
       "      <td>1610612755</td>\n",
       "      <td>130.0</td>\n",
       "      <td>...</td>\n",
       "      <td>0</td>\n",
       "      <td>0</td>\n",
       "      <td>0</td>\n",
       "      <td>0</td>\n",
       "      <td>0</td>\n",
       "      <td>0</td>\n",
       "      <td>0</td>\n",
       "      <td>0</td>\n",
       "      <td>0</td>\n",
       "      <td>1</td>\n",
       "    </tr>\n",
       "    <tr>\n",
       "      <th>1</th>\n",
       "      <td>25</td>\n",
       "      <td>1610612755</td>\n",
       "      <td>115.0</td>\n",
       "      <td>0.495</td>\n",
       "      <td>0.769</td>\n",
       "      <td>0.484</td>\n",
       "      <td>32.0</td>\n",
       "      <td>44.0</td>\n",
       "      <td>1610612752</td>\n",
       "      <td>106.0</td>\n",
       "      <td>...</td>\n",
       "      <td>0</td>\n",
       "      <td>0</td>\n",
       "      <td>0</td>\n",
       "      <td>0</td>\n",
       "      <td>0</td>\n",
       "      <td>0</td>\n",
       "      <td>0</td>\n",
       "      <td>0</td>\n",
       "      <td>0</td>\n",
       "      <td>1</td>\n",
       "    </tr>\n",
       "    <tr>\n",
       "      <th>2</th>\n",
       "      <td>30</td>\n",
       "      <td>1610612739</td>\n",
       "      <td>108.0</td>\n",
       "      <td>0.526</td>\n",
       "      <td>0.882</td>\n",
       "      <td>0.458</td>\n",
       "      <td>24.0</td>\n",
       "      <td>48.0</td>\n",
       "      <td>1610612755</td>\n",
       "      <td>94.0</td>\n",
       "      <td>...</td>\n",
       "      <td>0</td>\n",
       "      <td>0</td>\n",
       "      <td>0</td>\n",
       "      <td>0</td>\n",
       "      <td>0</td>\n",
       "      <td>0</td>\n",
       "      <td>0</td>\n",
       "      <td>0</td>\n",
       "      <td>0</td>\n",
       "      <td>1</td>\n",
       "    </tr>\n",
       "    <tr>\n",
       "      <th>3</th>\n",
       "      <td>46</td>\n",
       "      <td>1610612755</td>\n",
       "      <td>129.0</td>\n",
       "      <td>0.511</td>\n",
       "      <td>0.900</td>\n",
       "      <td>0.400</td>\n",
       "      <td>27.0</td>\n",
       "      <td>48.0</td>\n",
       "      <td>1610612737</td>\n",
       "      <td>112.0</td>\n",
       "      <td>...</td>\n",
       "      <td>0</td>\n",
       "      <td>0</td>\n",
       "      <td>0</td>\n",
       "      <td>0</td>\n",
       "      <td>0</td>\n",
       "      <td>0</td>\n",
       "      <td>0</td>\n",
       "      <td>0</td>\n",
       "      <td>0</td>\n",
       "      <td>1</td>\n",
       "    </tr>\n",
       "    <tr>\n",
       "      <th>4</th>\n",
       "      <td>65</td>\n",
       "      <td>1610612749</td>\n",
       "      <td>119.0</td>\n",
       "      <td>0.527</td>\n",
       "      <td>0.692</td>\n",
       "      <td>0.341</td>\n",
       "      <td>35.0</td>\n",
       "      <td>57.0</td>\n",
       "      <td>1610612755</td>\n",
       "      <td>98.0</td>\n",
       "      <td>...</td>\n",
       "      <td>0</td>\n",
       "      <td>0</td>\n",
       "      <td>0</td>\n",
       "      <td>0</td>\n",
       "      <td>0</td>\n",
       "      <td>0</td>\n",
       "      <td>0</td>\n",
       "      <td>0</td>\n",
       "      <td>0</td>\n",
       "      <td>1</td>\n",
       "    </tr>\n",
       "  </tbody>\n",
       "</table>\n",
       "<p>5 rows × 35 columns</p>\n",
       "</div>"
      ],
      "text/plain": [
       "   Unnamed: 0  TEAM_ID_home  PTS_home  FG_PCT_home  FT_PCT_home  FG3_PCT_home  \\\n",
       "0           2    1610612746     136.0        0.592        0.805         0.542   \n",
       "1          25    1610612755     115.0        0.495        0.769         0.484   \n",
       "2          30    1610612739     108.0        0.526        0.882         0.458   \n",
       "3          46    1610612755     129.0        0.511        0.900         0.400   \n",
       "4          65    1610612749     119.0        0.527        0.692         0.341   \n",
       "\n",
       "   AST_home  REB_home  TEAM_ID_away  PTS_away  ...  2010  2011  2012  2013  \\\n",
       "0      25.0      37.0    1610612755     130.0  ...     0     0     0     0   \n",
       "1      32.0      44.0    1610612752     106.0  ...     0     0     0     0   \n",
       "2      24.0      48.0    1610612755      94.0  ...     0     0     0     0   \n",
       "3      27.0      48.0    1610612737     112.0  ...     0     0     0     0   \n",
       "4      35.0      57.0    1610612755      98.0  ...     0     0     0     0   \n",
       "\n",
       "   2014  2015  2016  2017  2018  2019  \n",
       "0     0     0     0     0     0     1  \n",
       "1     0     0     0     0     0     1  \n",
       "2     0     0     0     0     0     1  \n",
       "3     0     0     0     0     0     1  \n",
       "4     0     0     0     0     0     1  \n",
       "\n",
       "[5 rows x 35 columns]"
      ]
     },
     "execution_count": 401,
     "metadata": {},
     "output_type": "execute_result"
    }
   ],
   "source": [
    "#getting for the categorical variable 'season'\n",
    "categorical = pd.get_dummies(philly['SEASON'])\n",
    "continuous = philly.drop(columns='SEASON')\n",
    "pdf = pd.concat([continuous,categorical],axis=1)\n",
    "pdf.head()"
   ]
  },
  {
   "cell_type": "code",
   "execution_count": 402,
   "metadata": {},
   "outputs": [],
   "source": [
    "del pdf['Unnamed: 0']\n",
    "del pdf['TEAM_ID_home']\n",
    "del pdf['TEAM_ID_away']\n",
    "del pdf['HOME_TEAM_WINS']"
   ]
  },
  {
   "cell_type": "code",
   "execution_count": 403,
   "metadata": {},
   "outputs": [
    {
     "name": "stdout",
     "output_type": "stream",
     "text": [
      "True\n",
      "True\n",
      "True\n",
      "True\n",
      "True\n",
      "True\n",
      "True\n",
      "True\n",
      "True\n",
      "True\n",
      "True\n",
      "True\n",
      "True\n",
      "False\n",
      "False\n",
      "False\n",
      "False\n",
      "False\n",
      "False\n",
      "False\n",
      "False\n",
      "False\n",
      "False\n",
      "False\n",
      "False\n",
      "False\n",
      "False\n",
      "False\n",
      "False\n",
      "False\n",
      "False\n"
     ]
    }
   ],
   "source": [
    "# checking for missing data\n",
    "for i in range(pdf.shape[1]):\n",
    "    print(pdf.iloc[:,i].isna().any())"
   ]
  },
  {
   "cell_type": "code",
   "execution_count": 405,
   "metadata": {},
   "outputs": [],
   "source": [
    "# replacing missing values with mean of the columns\n",
    "pdf = pdf.fillna(pdf.mean())"
   ]
  },
  {
   "cell_type": "code",
   "execution_count": 406,
   "metadata": {},
   "outputs": [],
   "source": [
    "y = pdf['PHI_WIN']"
   ]
  },
  {
   "cell_type": "code",
   "execution_count": 408,
   "metadata": {},
   "outputs": [],
   "source": [
    "x = pdf\n",
    "del x['PHI_WIN']"
   ]
  },
  {
   "cell_type": "code",
   "execution_count": 412,
   "metadata": {},
   "outputs": [],
   "source": [
    "#splitting data into train and test set (70:30 ratio)\n",
    "x_train = x.iloc[0:1059,:]\n",
    "y_train = y.iloc[0:1059]\n",
    "x_test = x.iloc[1060:1513,:]\n",
    "y_test = y.iloc[1060:1513]"
   ]
  },
  {
   "cell_type": "markdown",
   "metadata": {},
   "source": [
    "# Standardization"
   ]
  },
  {
   "cell_type": "code",
   "execution_count": 417,
   "metadata": {},
   "outputs": [
    {
     "data": {
      "text/plain": [
       "array(['PTS_home', 'FG_PCT_home', 'FT_PCT_home', 'FG3_PCT_home',\n",
       "       'AST_home', 'REB_home', 'PTS_away', 'FG_PCT_away', 'FT_PCT_away',\n",
       "       'FG3_PCT_away', 'AST_away', 'REB_away', 'Points_diff', 2003, 2004,\n",
       "       2005, 2006, 2007, 2008, 2009, 2010, 2011, 2012, 2013, 2014, 2015,\n",
       "       2016, 2017, 2018, 2019], dtype=object)"
      ]
     },
     "execution_count": 417,
     "metadata": {},
     "output_type": "execute_result"
    }
   ],
   "source": [
    "x_train.columns.values"
   ]
  },
  {
   "cell_type": "code",
   "execution_count": 418,
   "metadata": {},
   "outputs": [
    {
     "name": "stderr",
     "output_type": "stream",
     "text": [
      "/Users/apple/opt/anaconda3/lib/python3.7/site-packages/ipykernel_launcher.py:7: SettingWithCopyWarning: \n",
      "A value is trying to be set on a copy of a slice from a DataFrame.\n",
      "Try using .loc[row_indexer,col_indexer] = value instead\n",
      "\n",
      "See the caveats in the documentation: https://pandas.pydata.org/pandas-docs/stable/user_guide/indexing.html#returning-a-view-versus-a-copy\n",
      "  import sys\n",
      "/Users/apple/opt/anaconda3/lib/python3.7/site-packages/pandas/core/indexing.py:1736: SettingWithCopyWarning: \n",
      "A value is trying to be set on a copy of a slice from a DataFrame.\n",
      "Try using .loc[row_indexer,col_indexer] = value instead\n",
      "\n",
      "See the caveats in the documentation: https://pandas.pydata.org/pandas-docs/stable/user_guide/indexing.html#returning-a-view-versus-a-copy\n",
      "  isetter(loc, value[:, i].tolist())\n"
     ]
    }
   ],
   "source": [
    "from sklearn.preprocessing import StandardScaler\n",
    "scaler = StandardScaler()\n",
    "\n",
    "continuous_variables = ['PTS_home', 'FG_PCT_home', 'FT_PCT_home', 'FG3_PCT_home', 'AST_home', 'REB_home','PTS_away','FG_PCT_away','FT_PCT_away','FG3_PCT_away','AST_away','REB_away','Points_diff']\n",
    "\n",
    "# Standardization using fit_transform methods \n",
    "x_train[continuous_variables] = scaler.fit_transform(x_train[continuous_variables])"
   ]
  },
  {
   "cell_type": "code",
   "execution_count": 419,
   "metadata": {},
   "outputs": [
    {
     "data": {
      "text/html": [
       "<div>\n",
       "<style scoped>\n",
       "    .dataframe tbody tr th:only-of-type {\n",
       "        vertical-align: middle;\n",
       "    }\n",
       "\n",
       "    .dataframe tbody tr th {\n",
       "        vertical-align: top;\n",
       "    }\n",
       "\n",
       "    .dataframe thead th {\n",
       "        text-align: right;\n",
       "    }\n",
       "</style>\n",
       "<table border=\"1\" class=\"dataframe\">\n",
       "  <thead>\n",
       "    <tr style=\"text-align: right;\">\n",
       "      <th></th>\n",
       "      <th>PTS_home</th>\n",
       "      <th>FG_PCT_home</th>\n",
       "      <th>FT_PCT_home</th>\n",
       "      <th>FG3_PCT_home</th>\n",
       "      <th>AST_home</th>\n",
       "      <th>REB_home</th>\n",
       "      <th>PTS_away</th>\n",
       "      <th>FG_PCT_away</th>\n",
       "      <th>FT_PCT_away</th>\n",
       "      <th>FG3_PCT_away</th>\n",
       "      <th>...</th>\n",
       "      <th>2010</th>\n",
       "      <th>2011</th>\n",
       "      <th>2012</th>\n",
       "      <th>2013</th>\n",
       "      <th>2014</th>\n",
       "      <th>2015</th>\n",
       "      <th>2016</th>\n",
       "      <th>2017</th>\n",
       "      <th>2018</th>\n",
       "      <th>2019</th>\n",
       "    </tr>\n",
       "  </thead>\n",
       "  <tbody>\n",
       "    <tr>\n",
       "      <th>0</th>\n",
       "      <td>3.138294</td>\n",
       "      <td>2.356695</td>\n",
       "      <td>0.540775</td>\n",
       "      <td>1.548778</td>\n",
       "      <td>0.569357</td>\n",
       "      <td>-0.839660</td>\n",
       "      <td>2.782891</td>\n",
       "      <td>1.019352</td>\n",
       "      <td>-1.056064</td>\n",
       "      <td>1.135547</td>\n",
       "      <td>...</td>\n",
       "      <td>0</td>\n",
       "      <td>0</td>\n",
       "      <td>0</td>\n",
       "      <td>0</td>\n",
       "      <td>0</td>\n",
       "      <td>0</td>\n",
       "      <td>0</td>\n",
       "      <td>0</td>\n",
       "      <td>0</td>\n",
       "      <td>1</td>\n",
       "    </tr>\n",
       "    <tr>\n",
       "      <th>1</th>\n",
       "      <td>1.359689</td>\n",
       "      <td>0.650697</td>\n",
       "      <td>0.176989</td>\n",
       "      <td>1.091271</td>\n",
       "      <td>2.047585</td>\n",
       "      <td>0.205102</td>\n",
       "      <td>0.802760</td>\n",
       "      <td>1.036855</td>\n",
       "      <td>-1.739113</td>\n",
       "      <td>0.028175</td>\n",
       "      <td>...</td>\n",
       "      <td>0</td>\n",
       "      <td>0</td>\n",
       "      <td>0</td>\n",
       "      <td>0</td>\n",
       "      <td>0</td>\n",
       "      <td>0</td>\n",
       "      <td>0</td>\n",
       "      <td>0</td>\n",
       "      <td>0</td>\n",
       "      <td>1</td>\n",
       "    </tr>\n",
       "    <tr>\n",
       "      <th>2</th>\n",
       "      <td>0.766821</td>\n",
       "      <td>1.195913</td>\n",
       "      <td>1.318873</td>\n",
       "      <td>0.886181</td>\n",
       "      <td>0.358181</td>\n",
       "      <td>0.802109</td>\n",
       "      <td>-0.187305</td>\n",
       "      <td>-0.748447</td>\n",
       "      <td>-1.127427</td>\n",
       "      <td>-0.019284</td>\n",
       "      <td>...</td>\n",
       "      <td>0</td>\n",
       "      <td>0</td>\n",
       "      <td>0</td>\n",
       "      <td>0</td>\n",
       "      <td>0</td>\n",
       "      <td>0</td>\n",
       "      <td>0</td>\n",
       "      <td>0</td>\n",
       "      <td>0</td>\n",
       "      <td>1</td>\n",
       "    </tr>\n",
       "    <tr>\n",
       "      <th>3</th>\n",
       "      <td>2.545426</td>\n",
       "      <td>0.932099</td>\n",
       "      <td>1.500766</td>\n",
       "      <td>0.428673</td>\n",
       "      <td>0.991708</td>\n",
       "      <td>0.802109</td>\n",
       "      <td>1.297793</td>\n",
       "      <td>-0.608424</td>\n",
       "      <td>1.380487</td>\n",
       "      <td>-1.055468</td>\n",
       "      <td>...</td>\n",
       "      <td>0</td>\n",
       "      <td>0</td>\n",
       "      <td>0</td>\n",
       "      <td>0</td>\n",
       "      <td>0</td>\n",
       "      <td>0</td>\n",
       "      <td>0</td>\n",
       "      <td>0</td>\n",
       "      <td>0</td>\n",
       "      <td>1</td>\n",
       "    </tr>\n",
       "    <tr>\n",
       "      <th>4</th>\n",
       "      <td>1.698471</td>\n",
       "      <td>1.213501</td>\n",
       "      <td>-0.601110</td>\n",
       "      <td>-0.036723</td>\n",
       "      <td>2.681111</td>\n",
       "      <td>2.145375</td>\n",
       "      <td>0.142717</td>\n",
       "      <td>-1.623596</td>\n",
       "      <td>0.809580</td>\n",
       "      <td>-0.019284</td>\n",
       "      <td>...</td>\n",
       "      <td>0</td>\n",
       "      <td>0</td>\n",
       "      <td>0</td>\n",
       "      <td>0</td>\n",
       "      <td>0</td>\n",
       "      <td>0</td>\n",
       "      <td>0</td>\n",
       "      <td>0</td>\n",
       "      <td>0</td>\n",
       "      <td>1</td>\n",
       "    </tr>\n",
       "    <tr>\n",
       "      <th>...</th>\n",
       "      <td>...</td>\n",
       "      <td>...</td>\n",
       "      <td>...</td>\n",
       "      <td>...</td>\n",
       "      <td>...</td>\n",
       "      <td>...</td>\n",
       "      <td>...</td>\n",
       "      <td>...</td>\n",
       "      <td>...</td>\n",
       "      <td>...</td>\n",
       "      <td>...</td>\n",
       "      <td>...</td>\n",
       "      <td>...</td>\n",
       "      <td>...</td>\n",
       "      <td>...</td>\n",
       "      <td>...</td>\n",
       "      <td>...</td>\n",
       "      <td>...</td>\n",
       "      <td>...</td>\n",
       "      <td>...</td>\n",
       "      <td>...</td>\n",
       "    </tr>\n",
       "    <tr>\n",
       "      <th>1054</th>\n",
       "      <td>2.206644</td>\n",
       "      <td>0.527584</td>\n",
       "      <td>1.288557</td>\n",
       "      <td>0.428673</td>\n",
       "      <td>-0.064170</td>\n",
       "      <td>-0.093402</td>\n",
       "      <td>-0.599832</td>\n",
       "      <td>-0.503406</td>\n",
       "      <td>0.982891</td>\n",
       "      <td>-0.746986</td>\n",
       "      <td>...</td>\n",
       "      <td>0</td>\n",
       "      <td>0</td>\n",
       "      <td>0</td>\n",
       "      <td>0</td>\n",
       "      <td>0</td>\n",
       "      <td>0</td>\n",
       "      <td>0</td>\n",
       "      <td>0</td>\n",
       "      <td>1</td>\n",
       "      <td>0</td>\n",
       "    </tr>\n",
       "    <tr>\n",
       "      <th>1055</th>\n",
       "      <td>-0.249525</td>\n",
       "      <td>-0.984951</td>\n",
       "      <td>-0.318165</td>\n",
       "      <td>-0.233924</td>\n",
       "      <td>-0.064170</td>\n",
       "      <td>0.055850</td>\n",
       "      <td>0.390233</td>\n",
       "      <td>0.249222</td>\n",
       "      <td>0.554710</td>\n",
       "      <td>-0.169570</td>\n",
       "      <td>...</td>\n",
       "      <td>0</td>\n",
       "      <td>0</td>\n",
       "      <td>0</td>\n",
       "      <td>0</td>\n",
       "      <td>0</td>\n",
       "      <td>0</td>\n",
       "      <td>0</td>\n",
       "      <td>0</td>\n",
       "      <td>1</td>\n",
       "      <td>0</td>\n",
       "    </tr>\n",
       "    <tr>\n",
       "      <th>1056</th>\n",
       "      <td>1.444385</td>\n",
       "      <td>0.949686</td>\n",
       "      <td>1.197611</td>\n",
       "      <td>0.704755</td>\n",
       "      <td>1.414059</td>\n",
       "      <td>0.354354</td>\n",
       "      <td>-0.104800</td>\n",
       "      <td>-0.433394</td>\n",
       "      <td>0.299841</td>\n",
       "      <td>-0.675798</td>\n",
       "      <td>...</td>\n",
       "      <td>0</td>\n",
       "      <td>0</td>\n",
       "      <td>0</td>\n",
       "      <td>0</td>\n",
       "      <td>0</td>\n",
       "      <td>0</td>\n",
       "      <td>0</td>\n",
       "      <td>0</td>\n",
       "      <td>1</td>\n",
       "      <td>0</td>\n",
       "    </tr>\n",
       "    <tr>\n",
       "      <th>1057</th>\n",
       "      <td>-0.842393</td>\n",
       "      <td>-1.600517</td>\n",
       "      <td>1.167295</td>\n",
       "      <td>-0.596775</td>\n",
       "      <td>-0.486521</td>\n",
       "      <td>-0.988912</td>\n",
       "      <td>-0.187305</td>\n",
       "      <td>-0.905974</td>\n",
       "      <td>1.727109</td>\n",
       "      <td>-0.462233</td>\n",
       "      <td>...</td>\n",
       "      <td>0</td>\n",
       "      <td>0</td>\n",
       "      <td>0</td>\n",
       "      <td>0</td>\n",
       "      <td>0</td>\n",
       "      <td>0</td>\n",
       "      <td>0</td>\n",
       "      <td>0</td>\n",
       "      <td>1</td>\n",
       "      <td>0</td>\n",
       "    </tr>\n",
       "    <tr>\n",
       "      <th>1058</th>\n",
       "      <td>0.766821</td>\n",
       "      <td>1.072800</td>\n",
       "      <td>-0.439427</td>\n",
       "      <td>-0.099827</td>\n",
       "      <td>-0.275345</td>\n",
       "      <td>-0.391905</td>\n",
       "      <td>-0.104800</td>\n",
       "      <td>-0.940980</td>\n",
       "      <td>-0.882752</td>\n",
       "      <td>-0.003464</td>\n",
       "      <td>...</td>\n",
       "      <td>0</td>\n",
       "      <td>0</td>\n",
       "      <td>0</td>\n",
       "      <td>0</td>\n",
       "      <td>0</td>\n",
       "      <td>0</td>\n",
       "      <td>0</td>\n",
       "      <td>0</td>\n",
       "      <td>1</td>\n",
       "      <td>0</td>\n",
       "    </tr>\n",
       "  </tbody>\n",
       "</table>\n",
       "<p>1059 rows × 30 columns</p>\n",
       "</div>"
      ],
      "text/plain": [
       "      PTS_home  FG_PCT_home  FT_PCT_home  FG3_PCT_home  AST_home  REB_home  \\\n",
       "0     3.138294     2.356695     0.540775      1.548778  0.569357 -0.839660   \n",
       "1     1.359689     0.650697     0.176989      1.091271  2.047585  0.205102   \n",
       "2     0.766821     1.195913     1.318873      0.886181  0.358181  0.802109   \n",
       "3     2.545426     0.932099     1.500766      0.428673  0.991708  0.802109   \n",
       "4     1.698471     1.213501    -0.601110     -0.036723  2.681111  2.145375   \n",
       "...        ...          ...          ...           ...       ...       ...   \n",
       "1054  2.206644     0.527584     1.288557      0.428673 -0.064170 -0.093402   \n",
       "1055 -0.249525    -0.984951    -0.318165     -0.233924 -0.064170  0.055850   \n",
       "1056  1.444385     0.949686     1.197611      0.704755  1.414059  0.354354   \n",
       "1057 -0.842393    -1.600517     1.167295     -0.596775 -0.486521 -0.988912   \n",
       "1058  0.766821     1.072800    -0.439427     -0.099827 -0.275345 -0.391905   \n",
       "\n",
       "      PTS_away  FG_PCT_away  FT_PCT_away  FG3_PCT_away  ...  2010  2011  2012  \\\n",
       "0     2.782891     1.019352    -1.056064      1.135547  ...     0     0     0   \n",
       "1     0.802760     1.036855    -1.739113      0.028175  ...     0     0     0   \n",
       "2    -0.187305    -0.748447    -1.127427     -0.019284  ...     0     0     0   \n",
       "3     1.297793    -0.608424     1.380487     -1.055468  ...     0     0     0   \n",
       "4     0.142717    -1.623596     0.809580     -0.019284  ...     0     0     0   \n",
       "...        ...          ...          ...           ...  ...   ...   ...   ...   \n",
       "1054 -0.599832    -0.503406     0.982891     -0.746986  ...     0     0     0   \n",
       "1055  0.390233     0.249222     0.554710     -0.169570  ...     0     0     0   \n",
       "1056 -0.104800    -0.433394     0.299841     -0.675798  ...     0     0     0   \n",
       "1057 -0.187305    -0.905974     1.727109     -0.462233  ...     0     0     0   \n",
       "1058 -0.104800    -0.940980    -0.882752     -0.003464  ...     0     0     0   \n",
       "\n",
       "      2013  2014  2015  2016  2017  2018  2019  \n",
       "0        0     0     0     0     0     0     1  \n",
       "1        0     0     0     0     0     0     1  \n",
       "2        0     0     0     0     0     0     1  \n",
       "3        0     0     0     0     0     0     1  \n",
       "4        0     0     0     0     0     0     1  \n",
       "...    ...   ...   ...   ...   ...   ...   ...  \n",
       "1054     0     0     0     0     0     1     0  \n",
       "1055     0     0     0     0     0     1     0  \n",
       "1056     0     0     0     0     0     1     0  \n",
       "1057     0     0     0     0     0     1     0  \n",
       "1058     0     0     0     0     0     1     0  \n",
       "\n",
       "[1059 rows x 30 columns]"
      ]
     },
     "execution_count": 419,
     "metadata": {},
     "output_type": "execute_result"
    }
   ],
   "source": [
    "x_train"
   ]
  },
  {
   "cell_type": "code",
   "execution_count": 420,
   "metadata": {},
   "outputs": [
    {
     "name": "stderr",
     "output_type": "stream",
     "text": [
      "/Users/apple/opt/anaconda3/lib/python3.7/site-packages/ipykernel_launcher.py:2: SettingWithCopyWarning: \n",
      "A value is trying to be set on a copy of a slice from a DataFrame.\n",
      "Try using .loc[row_indexer,col_indexer] = value instead\n",
      "\n",
      "See the caveats in the documentation: https://pandas.pydata.org/pandas-docs/stable/user_guide/indexing.html#returning-a-view-versus-a-copy\n",
      "  \n",
      "/Users/apple/opt/anaconda3/lib/python3.7/site-packages/pandas/core/indexing.py:1736: SettingWithCopyWarning: \n",
      "A value is trying to be set on a copy of a slice from a DataFrame.\n",
      "Try using .loc[row_indexer,col_indexer] = value instead\n",
      "\n",
      "See the caveats in the documentation: https://pandas.pydata.org/pandas-docs/stable/user_guide/indexing.html#returning-a-view-versus-a-copy\n",
      "  isetter(loc, value[:, i].tolist())\n"
     ]
    }
   ],
   "source": [
    "# Standardization similarly for test using fit_transform methods \n",
    "x_test[continuous_variables] = scaler.fit_transform(x_test[continuous_variables])"
   ]
  },
  {
   "cell_type": "code",
   "execution_count": 421,
   "metadata": {},
   "outputs": [
    {
     "name": "stdout",
     "output_type": "stream",
     "text": [
      "LogisticRegression(C=1.0, class_weight=None, dual=False, fit_intercept=True,\n",
      "                   intercept_scaling=1, l1_ratio=None, max_iter=100,\n",
      "                   multi_class='warn', n_jobs=None, penalty='l2',\n",
      "                   random_state=None, solver='liblinear', tol=0.0001, verbose=0,\n",
      "                   warm_start=False)\n"
     ]
    }
   ],
   "source": [
    "from sklearn.linear_model import LogisticRegression\n",
    "\n",
    "logitreg = LogisticRegression(solver='liblinear')\n",
    "result = logitreg.fit(x_train, y_train)\n",
    "print(result)"
   ]
  },
  {
   "cell_type": "code",
   "execution_count": 422,
   "metadata": {},
   "outputs": [
    {
     "data": {
      "text/plain": [
       "array([0, 0, 0, 0, 0, 1, 0, 0, 0, 0, 0, 0, 0, 0, 0, 0, 0, 0, 0, 0, 0, 0,\n",
       "       0, 0, 0, 0, 1, 0, 0, 0, 0, 1, 0, 0, 0, 1, 0, 0, 0, 0, 0, 0, 0, 0,\n",
       "       0, 0, 0, 0, 0, 1, 0, 0, 0, 1, 0, 0, 1, 0, 0, 1, 0, 0, 0, 1, 1, 0,\n",
       "       0, 0, 1, 0, 0, 1, 0, 1, 0, 0, 0, 0, 0, 0, 0, 0, 0, 0, 0, 0, 0, 0,\n",
       "       0, 0, 0, 0, 0, 0, 0, 0, 0, 0, 0, 0, 0, 0, 0, 0, 0, 1, 0, 0, 0, 0,\n",
       "       0, 0, 0, 0, 0, 1, 0, 1, 0, 0, 0, 0, 0, 1, 1, 0, 0, 1, 0, 0, 1, 0,\n",
       "       0, 0, 1, 0, 0, 1, 0, 0, 0, 1, 0, 0, 0, 0, 1, 0, 0, 0, 1, 0, 0, 0,\n",
       "       0, 1, 1, 0, 0, 0, 0, 1, 0, 0, 0, 1, 0, 0, 0, 0, 0, 0, 0, 0, 0, 0,\n",
       "       0, 0, 0, 0, 0, 0, 0, 0, 1, 0, 0, 0, 0, 1, 0, 1, 0, 0, 0, 0, 0, 1,\n",
       "       1, 1, 0, 0, 0, 0, 0, 0, 1, 0, 0, 1, 0, 1, 0, 0, 0, 1, 0, 0, 1, 0,\n",
       "       0, 0, 0, 1, 0, 0, 0, 0, 0, 0, 0, 1, 0, 1, 1, 0, 1, 1, 0, 1, 0, 0,\n",
       "       0, 1, 0, 0, 0, 0, 0, 0, 0, 1, 0, 1, 0, 0, 0, 0, 1, 0, 1, 0, 0, 0,\n",
       "       1, 1, 0, 0, 0, 0, 0, 0, 1, 1, 0, 1, 0, 0, 0, 0, 0, 0, 0, 1, 0, 1,\n",
       "       0, 0, 0, 0, 1, 0, 1, 0, 0, 0, 0, 0, 1, 1, 0, 1, 0, 0, 1, 0, 0, 0,\n",
       "       0, 0, 0, 0, 1, 0, 0, 0, 0, 0, 0, 1, 0, 0, 0, 0, 0, 0, 0, 1, 0, 0,\n",
       "       0, 0, 0, 0, 1, 0, 0, 0, 0, 0, 1, 0, 0, 0, 0, 1, 1, 0, 0, 1, 0, 0,\n",
       "       0, 0, 0, 0, 0, 0, 0, 0, 0, 0, 0, 0, 0, 0, 0, 0, 0, 0, 0, 0, 0, 0,\n",
       "       0, 0, 0, 0, 0, 0, 0, 0, 0, 0, 0, 0, 1, 0, 0, 0, 0, 0, 0, 1, 1, 0,\n",
       "       1, 0, 0, 0, 1, 0, 0, 0, 0, 1, 0, 0, 0, 0, 0, 0, 0, 0, 0, 0, 0, 0,\n",
       "       0, 0, 0, 1, 0, 1, 0, 0, 0, 0, 0, 0, 1, 0, 0, 0, 0, 0, 0, 0, 0, 0,\n",
       "       0, 0, 1, 1, 0, 0, 0, 0, 0, 1, 0, 0, 0])"
      ]
     },
     "execution_count": 422,
     "metadata": {},
     "output_type": "execute_result"
    }
   ],
   "source": [
    "# predict the output for test dataset\n",
    "y_test_pred = logitreg.predict(x_test)\n",
    "y_test_pred"
   ]
  },
  {
   "cell_type": "code",
   "execution_count": 423,
   "metadata": {},
   "outputs": [
    {
     "name": "stdout",
     "output_type": "stream",
     "text": [
      "Accuracy: 0.5496688741721855\n",
      "Precision: 0.3411764705882353\n",
      "Recall: 0.1638418079096045\n"
     ]
    }
   ],
   "source": [
    "from sklearn import metrics\n",
    "print(\"Accuracy:\",metrics.accuracy_score(y_test, y_test_pred))\n",
    "print(\"Precision:\",metrics.precision_score(y_test, y_test_pred))\n",
    "print(\"Recall:\",metrics.recall_score(y_test, y_test_pred))"
   ]
  },
  {
   "cell_type": "code",
   "execution_count": 424,
   "metadata": {},
   "outputs": [
    {
     "data": {
      "image/png": "[encoded data removed]",
      "text/plain": [
       "<Figure size 432x288 with 1 Axes>"
      ]
     },
     "metadata": {
      "needs_background": "light"
     },
     "output_type": "display_data"
    }
   ],
   "source": [
    "from sklearn.metrics import roc_curve\n",
    "# calculating the fpr and tpr for all thresholds of the classification\n",
    "\n",
    "probs = logitreg.predict_proba(x_test)\n",
    "preds = probs[:,1]\n",
    "fpr, tpr, threshold = metrics.roc_curve(y_test, preds)\n",
    "roc_auc = metrics.auc(fpr, tpr)\n",
    "\n",
    "# plotting the ROC curve by giving appropriate names for title and axes. \n",
    "\n",
    "import matplotlib.pyplot as plt\n",
    "plt.title('Receiver Operating Characteristic')\n",
    "plt.plot(fpr, tpr, 'b', label = 'AUC = %0.2f' % roc_auc)\n",
    "plt.legend(loc = 'lower right')\n",
    "plt.plot([0, 1], [0, 1],'r--')\n",
    "plt.xlim([0, 1])\n",
    "plt.ylim([0, 1])\n",
    "plt.ylabel('True Positive Rate')\n",
    "plt.xlabel('False Positive Rate')\n",
    "plt.show()"
   ]
  },
  {
   "cell_type": "markdown",
   "metadata": {},
   "source": [
    "As you can see the results for Logistic regression are not very good and therefore we need to try out decision trees models"
   ]
  },
  {
   "cell_type": "markdown",
   "metadata": {},
   "source": [
    "# Simple Decision Tree"
   ]
  },
  {
   "cell_type": "code",
   "execution_count": 425,
   "metadata": {},
   "outputs": [],
   "source": [
    "from sklearn.tree import DecisionTreeClassifier\n",
    "from sklearn.metrics import accuracy_score,precision_score, recall_score"
   ]
  },
  {
   "cell_type": "code",
   "execution_count": 432,
   "metadata": {},
   "outputs": [],
   "source": [
    "temp = pd.read_csv(\"philly.csv\")\n",
    "\n",
    "temp['PHI_WIN'] = 0\n",
    "\n",
    "for i in range(temp.shape[0]):\n",
    "    if temp.iloc[i,2] == 1610612755 and temp.iloc[i,16] == 1:\n",
    "        temp.iloc[i,18] = 1\n",
    "    elif temp.iloc[i,9] == 1610612755 and temp.iloc[i,16] == 0:\n",
    "        temp.iloc[i,18] = 1\n",
    "        \n",
    "categorical = pd.get_dummies(temp['SEASON'])\n",
    "continuous = temp.drop(columns='SEASON')\n",
    "df_dt = pd.concat([continuous,categorical],axis=1)\n",
    "\n",
    "del df_dt['Unnamed: 0']\n",
    "del df_dt['TEAM_ID_home']\n",
    "del df_dt['TEAM_ID_away']\n",
    "del df_dt['HOME_TEAM_WINS']\n",
    "\n",
    "df_dt = df_dt.fillna(df_dt.mean())"
   ]
  },
  {
   "cell_type": "code",
   "execution_count": 433,
   "metadata": {},
   "outputs": [
    {
     "data": {
      "text/html": [
       "<div>\n",
       "<style scoped>\n",
       "    .dataframe tbody tr th:only-of-type {\n",
       "        vertical-align: middle;\n",
       "    }\n",
       "\n",
       "    .dataframe tbody tr th {\n",
       "        vertical-align: top;\n",
       "    }\n",
       "\n",
       "    .dataframe thead th {\n",
       "        text-align: right;\n",
       "    }\n",
       "</style>\n",
       "<table border=\"1\" class=\"dataframe\">\n",
       "  <thead>\n",
       "    <tr style=\"text-align: right;\">\n",
       "      <th></th>\n",
       "      <th>PTS_home</th>\n",
       "      <th>FG_PCT_home</th>\n",
       "      <th>FT_PCT_home</th>\n",
       "      <th>FG3_PCT_home</th>\n",
       "      <th>AST_home</th>\n",
       "      <th>REB_home</th>\n",
       "      <th>PTS_away</th>\n",
       "      <th>FG_PCT_away</th>\n",
       "      <th>FT_PCT_away</th>\n",
       "      <th>FG3_PCT_away</th>\n",
       "      <th>...</th>\n",
       "      <th>2010</th>\n",
       "      <th>2011</th>\n",
       "      <th>2012</th>\n",
       "      <th>2013</th>\n",
       "      <th>2014</th>\n",
       "      <th>2015</th>\n",
       "      <th>2016</th>\n",
       "      <th>2017</th>\n",
       "      <th>2018</th>\n",
       "      <th>2019</th>\n",
       "    </tr>\n",
       "  </thead>\n",
       "  <tbody>\n",
       "    <tr>\n",
       "      <th>0</th>\n",
       "      <td>136.0</td>\n",
       "      <td>0.592</td>\n",
       "      <td>0.805</td>\n",
       "      <td>0.542</td>\n",
       "      <td>25.0</td>\n",
       "      <td>37.0</td>\n",
       "      <td>130.0</td>\n",
       "      <td>0.505</td>\n",
       "      <td>0.650</td>\n",
       "      <td>0.488</td>\n",
       "      <td>...</td>\n",
       "      <td>0</td>\n",
       "      <td>0</td>\n",
       "      <td>0</td>\n",
       "      <td>0</td>\n",
       "      <td>0</td>\n",
       "      <td>0</td>\n",
       "      <td>0</td>\n",
       "      <td>0</td>\n",
       "      <td>0</td>\n",
       "      <td>1</td>\n",
       "    </tr>\n",
       "    <tr>\n",
       "      <th>1</th>\n",
       "      <td>115.0</td>\n",
       "      <td>0.495</td>\n",
       "      <td>0.769</td>\n",
       "      <td>0.484</td>\n",
       "      <td>32.0</td>\n",
       "      <td>44.0</td>\n",
       "      <td>106.0</td>\n",
       "      <td>0.506</td>\n",
       "      <td>0.583</td>\n",
       "      <td>0.348</td>\n",
       "      <td>...</td>\n",
       "      <td>0</td>\n",
       "      <td>0</td>\n",
       "      <td>0</td>\n",
       "      <td>0</td>\n",
       "      <td>0</td>\n",
       "      <td>0</td>\n",
       "      <td>0</td>\n",
       "      <td>0</td>\n",
       "      <td>0</td>\n",
       "      <td>1</td>\n",
       "    </tr>\n",
       "    <tr>\n",
       "      <th>2</th>\n",
       "      <td>108.0</td>\n",
       "      <td>0.526</td>\n",
       "      <td>0.882</td>\n",
       "      <td>0.458</td>\n",
       "      <td>24.0</td>\n",
       "      <td>48.0</td>\n",
       "      <td>94.0</td>\n",
       "      <td>0.404</td>\n",
       "      <td>0.643</td>\n",
       "      <td>0.342</td>\n",
       "      <td>...</td>\n",
       "      <td>0</td>\n",
       "      <td>0</td>\n",
       "      <td>0</td>\n",
       "      <td>0</td>\n",
       "      <td>0</td>\n",
       "      <td>0</td>\n",
       "      <td>0</td>\n",
       "      <td>0</td>\n",
       "      <td>0</td>\n",
       "      <td>1</td>\n",
       "    </tr>\n",
       "    <tr>\n",
       "      <th>3</th>\n",
       "      <td>129.0</td>\n",
       "      <td>0.511</td>\n",
       "      <td>0.900</td>\n",
       "      <td>0.400</td>\n",
       "      <td>27.0</td>\n",
       "      <td>48.0</td>\n",
       "      <td>112.0</td>\n",
       "      <td>0.412</td>\n",
       "      <td>0.889</td>\n",
       "      <td>0.211</td>\n",
       "      <td>...</td>\n",
       "      <td>0</td>\n",
       "      <td>0</td>\n",
       "      <td>0</td>\n",
       "      <td>0</td>\n",
       "      <td>0</td>\n",
       "      <td>0</td>\n",
       "      <td>0</td>\n",
       "      <td>0</td>\n",
       "      <td>0</td>\n",
       "      <td>1</td>\n",
       "    </tr>\n",
       "    <tr>\n",
       "      <th>4</th>\n",
       "      <td>119.0</td>\n",
       "      <td>0.527</td>\n",
       "      <td>0.692</td>\n",
       "      <td>0.341</td>\n",
       "      <td>35.0</td>\n",
       "      <td>57.0</td>\n",
       "      <td>98.0</td>\n",
       "      <td>0.354</td>\n",
       "      <td>0.833</td>\n",
       "      <td>0.342</td>\n",
       "      <td>...</td>\n",
       "      <td>0</td>\n",
       "      <td>0</td>\n",
       "      <td>0</td>\n",
       "      <td>0</td>\n",
       "      <td>0</td>\n",
       "      <td>0</td>\n",
       "      <td>0</td>\n",
       "      <td>0</td>\n",
       "      <td>0</td>\n",
       "      <td>1</td>\n",
       "    </tr>\n",
       "  </tbody>\n",
       "</table>\n",
       "<p>5 rows × 31 columns</p>\n",
       "</div>"
      ],
      "text/plain": [
       "   PTS_home  FG_PCT_home  FT_PCT_home  FG3_PCT_home  AST_home  REB_home  \\\n",
       "0     136.0        0.592        0.805         0.542      25.0      37.0   \n",
       "1     115.0        0.495        0.769         0.484      32.0      44.0   \n",
       "2     108.0        0.526        0.882         0.458      24.0      48.0   \n",
       "3     129.0        0.511        0.900         0.400      27.0      48.0   \n",
       "4     119.0        0.527        0.692         0.341      35.0      57.0   \n",
       "\n",
       "   PTS_away  FG_PCT_away  FT_PCT_away  FG3_PCT_away  ...  2010  2011  2012  \\\n",
       "0     130.0        0.505        0.650         0.488  ...     0     0     0   \n",
       "1     106.0        0.506        0.583         0.348  ...     0     0     0   \n",
       "2      94.0        0.404        0.643         0.342  ...     0     0     0   \n",
       "3     112.0        0.412        0.889         0.211  ...     0     0     0   \n",
       "4      98.0        0.354        0.833         0.342  ...     0     0     0   \n",
       "\n",
       "   2013  2014  2015  2016  2017  2018  2019  \n",
       "0     0     0     0     0     0     0     1  \n",
       "1     0     0     0     0     0     0     1  \n",
       "2     0     0     0     0     0     0     1  \n",
       "3     0     0     0     0     0     0     1  \n",
       "4     0     0     0     0     0     0     1  \n",
       "\n",
       "[5 rows x 31 columns]"
      ]
     },
     "execution_count": 433,
     "metadata": {},
     "output_type": "execute_result"
    }
   ],
   "source": [
    "df_dt.head()"
   ]
  },
  {
   "cell_type": "code",
   "execution_count": 434,
   "metadata": {},
   "outputs": [],
   "source": [
    "Y = df_dt['PHI_WIN']\n",
    "X = df_dt\n",
    "del X['PHI_WIN']"
   ]
  },
  {
   "cell_type": "code",
   "execution_count": 435,
   "metadata": {},
   "outputs": [],
   "source": [
    "#splitting data into train and test set (70:30 ratio)\n",
    "\n",
    "X_train = X.iloc[0:1059,:]\n",
    "Y_train = Y.iloc[0:1059]\n",
    "X_test = X.iloc[1060:1513,:]\n",
    "Y_test = Y.iloc[1060:1513]"
   ]
  },
  {
   "cell_type": "code",
   "execution_count": 437,
   "metadata": {},
   "outputs": [],
   "source": [
    "# fitting the classifier on training data\n",
    "\n",
    "clf = DecisionTreeClassifier(random_state=26)\n",
    "\n",
    "clf = clf.fit(X_train,Y_train)"
   ]
  },
  {
   "cell_type": "code",
   "execution_count": 438,
   "metadata": {},
   "outputs": [
    {
     "data": {
      "text/plain": [
       "array([0, 1, 0, ..., 1, 1, 0])"
      ]
     },
     "execution_count": 438,
     "metadata": {},
     "output_type": "execute_result"
    }
   ],
   "source": [
    "# making predictions on the training data\n",
    "\n",
    "Y_pred_train = clf.predict(X_train)\n",
    "Y_pred_train"
   ]
  },
  {
   "cell_type": "code",
   "execution_count": 439,
   "metadata": {},
   "outputs": [
    {
     "name": "stdout",
     "output_type": "stream",
     "text": [
      "Accuracy: 0.9971671388101983\n",
      "Precision: 0.9937238493723849\n",
      "Recall: 1.0\n"
     ]
    }
   ],
   "source": [
    "# getting accuracy, precision and recall on train\n",
    "\n",
    "print(\"Accuracy:\",accuracy_score(Y_train, Y_pred_train))\n",
    "print(\"Precision:\",precision_score(Y_train, Y_pred_train))\n",
    "print(\"Recall:\",recall_score(Y_train, Y_pred_train))"
   ]
  },
  {
   "cell_type": "code",
   "execution_count": 441,
   "metadata": {},
   "outputs": [
    {
     "data": {
      "text/plain": [
       "array([1, 0, 0, 0, 1, 0, 0, 0, 0, 0, 1, 1, 0, 0, 0, 1, 1, 1, 1, 0, 0, 1,\n",
       "       1, 1, 0, 1, 1, 0, 0, 0, 0, 1, 1, 1, 1, 0, 1, 0, 0, 0, 0, 0, 0, 0,\n",
       "       0, 0, 1, 1, 0, 0, 0, 1, 0, 1, 1, 1, 1, 1, 0, 0, 0, 0, 1, 0, 1, 1,\n",
       "       1, 0, 0, 0, 1, 1, 0, 0, 1, 1, 1, 1, 1, 0, 1, 1, 1, 0, 1, 1, 1, 0,\n",
       "       1, 1, 0, 0, 0, 1, 0, 1, 0, 1, 0, 1, 1, 1, 0, 1, 0, 0, 0, 0, 0, 1,\n",
       "       0, 0, 1, 0, 0, 1, 1, 1, 0, 1, 1, 1, 0, 0, 1, 1, 0, 0, 0, 0, 1, 0,\n",
       "       0, 1, 1, 0, 0, 1, 0, 1, 1, 0, 1, 1, 0, 1, 0, 0, 1, 1, 0, 0, 1, 0,\n",
       "       0, 0, 0, 1, 0, 1, 1, 1, 0, 1, 0, 1, 0, 0, 0, 1, 0, 1, 1, 1, 0, 1,\n",
       "       0, 0, 0, 1, 1, 0, 0, 0, 1, 0, 1, 1, 0, 1, 1, 1, 1, 0, 1, 1, 1, 0,\n",
       "       1, 0, 0, 0, 0, 1, 0, 1, 0, 0, 0, 0, 0, 1, 0, 1, 0, 1, 0, 1, 0, 0,\n",
       "       0, 1, 0, 1, 1, 1, 1, 1, 0, 1, 0, 0, 0, 1, 1, 1, 0, 1, 0, 1, 1, 0,\n",
       "       1, 0, 1, 0, 1, 0, 1, 0, 0, 0, 0, 0, 0, 1, 1, 1, 1, 1, 1, 0, 1, 1,\n",
       "       1, 1, 0, 0, 1, 1, 0, 0, 1, 0, 1, 0, 0, 0, 0, 1, 0, 0, 0, 1, 0, 0,\n",
       "       1, 0, 0, 0, 1, 1, 0, 1, 0, 1, 0, 0, 0, 1, 0, 1, 1, 1, 1, 1, 0, 1,\n",
       "       0, 1, 0, 1, 0, 0, 0, 0, 0, 1, 1, 1, 1, 0, 1, 0, 0, 0, 0, 1, 1, 0,\n",
       "       1, 1, 0, 1, 0, 0, 0, 0, 1, 0, 1, 0, 1, 0, 1, 1, 0, 0, 0, 0, 0, 1,\n",
       "       1, 0, 0, 0, 1, 0, 0, 0, 0, 0, 0, 1, 1, 1, 0, 0, 0, 0, 1, 0, 1, 1,\n",
       "       0, 0, 1, 1, 1, 0, 1, 1, 1, 1, 1, 1, 1, 0, 1, 1, 0, 1, 0, 0, 1, 0,\n",
       "       0, 0, 1, 0, 0, 1, 1, 1, 0, 1, 0, 1, 0, 0, 0, 1, 0, 0, 0, 0, 1, 0,\n",
       "       0, 1, 1, 0, 0, 1, 0, 1, 0, 1, 1, 1, 1, 0, 0, 1, 0, 0, 1, 1, 0, 1,\n",
       "       1, 0, 1, 0, 1, 0, 1, 1, 1, 0, 0, 1, 0])"
      ]
     },
     "execution_count": 441,
     "metadata": {},
     "output_type": "execute_result"
    }
   ],
   "source": [
    "# Make predictions on the test data\n",
    "Y_pred_test = clf.predict(X_test)\n",
    "Y_pred_test"
   ]
  },
  {
   "cell_type": "code",
   "execution_count": 442,
   "metadata": {},
   "outputs": [
    {
     "name": "stdout",
     "output_type": "stream",
     "text": [
      "Accuracy: 0.5165562913907285\n",
      "Precision: 0.4027777777777778\n",
      "Recall: 0.4915254237288136\n"
     ]
    }
   ],
   "source": [
    "# Evaluating the performance metrics on test\n",
    "\n",
    "print(\"Accuracy:\",accuracy_score(Y_test, Y_pred_test))\n",
    "print(\"Precision:\",precision_score(Y_test, Y_pred_test))\n",
    "print(\"Recall:\",recall_score(Y_test, Y_pred_test))"
   ]
  },
  {
   "cell_type": "code",
   "execution_count": 443,
   "metadata": {},
   "outputs": [
    {
     "data": {
      "image/png": "[encoded data removed]",
      "text/plain": [
       "<Figure size 432x288 with 1 Axes>"
      ]
     },
     "metadata": {
      "needs_background": "light"
     },
     "output_type": "display_data"
    }
   ],
   "source": [
    "# Plot the ROC curve by giving appropriate names for title and axes. \n",
    "\n",
    "from sklearn.metrics import roc_curve\n",
    "from sklearn.metrics import auc\n",
    "\n",
    "fpr, tpr, threshold = roc_curve(Y_test, Y_pred_test)\n",
    "roc_auc = auc(fpr, tpr)\n",
    "\n",
    "plt.title('Receiver Operating Characteristic')\n",
    "plt.plot(fpr, tpr, 'b', label = 'AUC = %0.2f' % roc_auc)\n",
    "plt.legend(loc = 'lower right')\n",
    "plt.plot([0, 1], [0, 1],'r--')\n",
    "plt.xlim([0, 1])\n",
    "plt.ylim([0, 1])\n",
    "plt.ylabel('True Positive Rate')\n",
    "plt.xlabel('False Positive Rate')\n",
    "plt.show()"
   ]
  },
  {
   "cell_type": "markdown",
   "metadata": {},
   "source": [
    "# Random Forest"
   ]
  },
  {
   "cell_type": "code",
   "execution_count": 445,
   "metadata": {},
   "outputs": [],
   "source": [
    "from sklearn.ensemble import RandomForestClassifier"
   ]
  },
  {
   "cell_type": "code",
   "execution_count": 446,
   "metadata": {},
   "outputs": [
    {
     "name": "stderr",
     "output_type": "stream",
     "text": [
      "/Users/apple/opt/anaconda3/lib/python3.7/site-packages/sklearn/ensemble/forest.py:245: FutureWarning: The default value of n_estimators will change from 10 in version 0.20 to 100 in 0.22.\n",
      "  \"10 in version 0.20 to 100 in 0.22.\", FutureWarning)\n"
     ]
    }
   ],
   "source": [
    "# Fitting the classifier on the training data\n",
    "\n",
    "clf = RandomForestClassifier(random_state=26)\n",
    "\n",
    "clf = clf.fit(X_train,Y_train)"
   ]
  },
  {
   "cell_type": "code",
   "execution_count": 447,
   "metadata": {},
   "outputs": [
    {
     "data": {
      "text/plain": [
       "array([0, 1, 0, ..., 1, 1, 0])"
      ]
     },
     "execution_count": 447,
     "metadata": {},
     "output_type": "execute_result"
    }
   ],
   "source": [
    "# Making predictions on the training data\n",
    "\n",
    "Y_pred_train = clf.predict(X_train)\n",
    "Y_pred_train"
   ]
  },
  {
   "cell_type": "code",
   "execution_count": 448,
   "metadata": {},
   "outputs": [
    {
     "name": "stdout",
     "output_type": "stream",
     "text": [
      "Accuracy: 0.9811142587346553\n",
      "Precision: 0.9913606911447084\n",
      "Recall: 0.9663157894736842\n"
     ]
    }
   ],
   "source": [
    "# Evaluating the performance metrics\n",
    "\n",
    "print(\"Accuracy:\",accuracy_score(Y_train, Y_pred_train))\n",
    "print(\"Precision:\",precision_score(Y_train, Y_pred_train))\n",
    "print(\"Recall:\",recall_score(Y_train, Y_pred_train))"
   ]
  },
  {
   "cell_type": "code",
   "execution_count": 449,
   "metadata": {},
   "outputs": [
    {
     "data": {
      "text/plain": [
       "array([0, 1, 1, 0, 0, 0, 1, 1, 1, 0, 0, 0, 0, 0, 0, 1, 0, 1, 0, 0, 0, 0,\n",
       "       0, 0, 0, 1, 0, 0, 1, 0, 0, 1, 1, 0, 1, 1, 0, 1, 0, 0, 0, 0, 0, 1,\n",
       "       0, 0, 1, 0, 0, 1, 1, 0, 1, 1, 1, 0, 0, 1, 0, 0, 0, 0, 0, 0, 1, 1,\n",
       "       0, 0, 1, 0, 0, 0, 0, 1, 1, 0, 0, 0, 0, 1, 1, 0, 1, 0, 0, 0, 1, 0,\n",
       "       1, 0, 0, 0, 0, 0, 0, 0, 0, 1, 0, 0, 0, 0, 0, 0, 0, 0, 0, 0, 0, 0,\n",
       "       0, 1, 0, 1, 1, 0, 0, 1, 1, 0, 0, 1, 0, 0, 1, 0, 1, 1, 0, 0, 0, 0,\n",
       "       0, 0, 0, 1, 0, 1, 0, 1, 1, 0, 0, 1, 1, 1, 1, 0, 0, 0, 0, 0, 1, 1,\n",
       "       1, 1, 1, 0, 0, 1, 0, 1, 0, 0, 0, 1, 0, 0, 1, 0, 0, 1, 0, 0, 0, 0,\n",
       "       0, 0, 0, 0, 0, 0, 1, 0, 0, 0, 0, 1, 0, 0, 0, 1, 0, 0, 0, 0, 1, 0,\n",
       "       0, 0, 0, 0, 1, 1, 0, 0, 0, 1, 0, 1, 0, 1, 0, 0, 0, 1, 0, 1, 1, 1,\n",
       "       0, 0, 0, 1, 0, 1, 1, 0, 0, 1, 0, 0, 1, 0, 0, 1, 0, 1, 0, 1, 0, 0,\n",
       "       0, 0, 0, 0, 0, 0, 0, 0, 1, 0, 0, 0, 1, 0, 1, 1, 1, 0, 0, 0, 0, 0,\n",
       "       1, 0, 0, 0, 1, 0, 0, 0, 1, 1, 0, 0, 0, 0, 0, 0, 0, 0, 0, 1, 0, 0,\n",
       "       0, 1, 0, 0, 0, 0, 0, 1, 0, 0, 1, 0, 0, 1, 0, 0, 0, 1, 1, 1, 1, 0,\n",
       "       0, 0, 0, 0, 0, 1, 0, 0, 1, 0, 0, 0, 0, 0, 0, 0, 1, 0, 1, 1, 1, 0,\n",
       "       0, 0, 1, 1, 0, 0, 0, 0, 0, 0, 0, 0, 0, 0, 0, 1, 1, 0, 0, 1, 0, 0,\n",
       "       1, 0, 0, 0, 1, 1, 0, 0, 0, 1, 0, 0, 1, 1, 0, 0, 0, 0, 1, 0, 0, 0,\n",
       "       0, 0, 1, 0, 0, 0, 1, 0, 0, 0, 1, 0, 1, 0, 1, 1, 0, 1, 1, 0, 1, 0,\n",
       "       0, 1, 0, 1, 0, 0, 1, 0, 0, 0, 0, 1, 0, 0, 0, 0, 0, 0, 0, 0, 0, 0,\n",
       "       0, 0, 0, 0, 0, 1, 0, 0, 0, 0, 0, 0, 1, 0, 1, 0, 0, 0, 0, 0, 0, 1,\n",
       "       1, 0, 0, 0, 1, 0, 0, 0, 1, 0, 0, 0, 0])"
      ]
     },
     "execution_count": 449,
     "metadata": {},
     "output_type": "execute_result"
    }
   ],
   "source": [
    "# making predictions on the testing data\n",
    "\n",
    "Y_pred_test = clf.predict(X_test)\n",
    "Y_pred_test"
   ]
  },
  {
   "cell_type": "code",
   "execution_count": 450,
   "metadata": {},
   "outputs": [
    {
     "name": "stdout",
     "output_type": "stream",
     "text": [
      "Accuracy: 0.5894039735099338\n",
      "Precision: 0.46715328467153283\n",
      "Recall: 0.3615819209039548\n"
     ]
    }
   ],
   "source": [
    "print(\"Accuracy:\",accuracy_score(Y_test, Y_pred_test))\n",
    "print(\"Precision:\",precision_score(Y_test, Y_pred_test))\n",
    "print(\"Recall:\",recall_score(Y_test, Y_pred_test))"
   ]
  },
  {
   "cell_type": "code",
   "execution_count": 451,
   "metadata": {},
   "outputs": [
    {
     "data": {
      "image/png": "[encoded data removed]",
      "text/plain": [
       "<Figure size 432x288 with 1 Axes>"
      ]
     },
     "metadata": {
      "needs_background": "light"
     },
     "output_type": "display_data"
    }
   ],
   "source": [
    "# Plot the ROC curve by giving appropriate names for title and axes. \n",
    "\n",
    "\n",
    "from sklearn.metrics import roc_curve\n",
    "from sklearn.metrics import auc\n",
    "\n",
    "probs_test = clf.predict_proba(X_test)\n",
    "preds_test = probs_test[:,1]\n",
    "fpr, tpr, threshold = roc_curve(Y_test, preds_test)\n",
    "roc_auc = auc(fpr, tpr)\n",
    "\n",
    "plt.title('Receiver Operating Characteristic')\n",
    "plt.plot(fpr, tpr, 'b', label = 'AUC = %0.2f' % roc_auc)\n",
    "plt.legend(loc = 'lower right')\n",
    "plt.plot([0, 1], [0, 1],'r--')\n",
    "plt.xlim([0, 1])\n",
    "plt.ylim([0, 1])\n",
    "plt.ylabel('True Positive Rate')\n",
    "plt.xlabel('False Positive Rate')\n",
    "plt.show()"
   ]
  },
  {
   "cell_type": "markdown",
   "metadata": {},
   "source": [
    "Random Forests is the best model so far with 0.58 AUC and 58.94% accuracy in the test data. In order to get better performance, let us hypertune the parameters."
   ]
  },
  {
   "cell_type": "markdown",
   "metadata": {},
   "source": [
    "# Model Tuning"
   ]
  },
  {
   "cell_type": "code",
   "execution_count": 452,
   "metadata": {},
   "outputs": [],
   "source": [
    "from sklearn.model_selection import GridSearchCV"
   ]
  },
  {
   "cell_type": "code",
   "execution_count": 453,
   "metadata": {},
   "outputs": [],
   "source": [
    "param_grid = {\n",
    "    'max_depth': np.linspace(1, 8, 8, endpoint=True),\n",
    "    'max_features': list(range(1,X_train.shape[1])),\n",
    "    'min_samples_leaf': np.linspace(0.01, 0.5, 8, endpoint=True),\n",
    "    'min_samples_split': np.linspace(0.05, 0.8, 8, endpoint=True),\n",
    "    'n_estimators': [1, 2, 4, 8]\n",
    "}"
   ]
  },
  {
   "cell_type": "code",
   "execution_count": 454,
   "metadata": {},
   "outputs": [],
   "source": [
    "rf = RandomForestClassifier(random_state=26)"
   ]
  },
  {
   "cell_type": "code",
   "execution_count": 455,
   "metadata": {},
   "outputs": [],
   "source": [
    "grid_search = GridSearchCV(estimator = rf, scoring='f1', param_grid = param_grid, \n",
    "                          cv = 3, n_jobs = -1, verbose = 2)"
   ]
  },
  {
   "cell_type": "code",
   "execution_count": 456,
   "metadata": {},
   "outputs": [
    {
     "name": "stdout",
     "output_type": "stream",
     "text": [
      "Fitting 3 folds for each of 59392 candidates, totalling 178176 fits\n"
     ]
    },
    {
     "name": "stderr",
     "output_type": "stream",
     "text": [
      "[Parallel(n_jobs=-1)]: Using backend LokyBackend with 4 concurrent workers.\n",
      "[Parallel(n_jobs=-1)]: Done  35 tasks      | elapsed:    4.4s\n",
      "[Parallel(n_jobs=-1)]: Done 507 tasks      | elapsed:    9.4s\n",
      "[Parallel(n_jobs=-1)]: Done 1455 tasks      | elapsed:   18.1s\n",
      "[Parallel(n_jobs=-1)]: Done 3719 tasks      | elapsed:   32.4s\n",
      "[Parallel(n_jobs=-1)]: Done 6639 tasks      | elapsed:   50.7s\n",
      "[Parallel(n_jobs=-1)]: Done 10199 tasks      | elapsed:  1.2min\n",
      "[Parallel(n_jobs=-1)]: Done 14415 tasks      | elapsed:  1.8min\n",
      "[Parallel(n_jobs=-1)]: Done 19271 tasks      | elapsed:  2.6min\n",
      "[Parallel(n_jobs=-1)]: Done 24783 tasks      | elapsed:  3.2min\n",
      "[Parallel(n_jobs=-1)]: Done 30935 tasks      | elapsed:  3.7min\n",
      "[Parallel(n_jobs=-1)]: Done 37743 tasks      | elapsed:  4.4min\n",
      "[Parallel(n_jobs=-1)]: Done 45191 tasks      | elapsed:  5.1min\n",
      "[Parallel(n_jobs=-1)]: Done 53295 tasks      | elapsed:  5.9min\n",
      "[Parallel(n_jobs=-1)]: Done 62039 tasks      | elapsed:  6.8min\n",
      "[Parallel(n_jobs=-1)]: Done 71439 tasks      | elapsed:  7.7min\n",
      "[Parallel(n_jobs=-1)]: Done 81479 tasks      | elapsed:  8.7min\n",
      "[Parallel(n_jobs=-1)]: Done 92175 tasks      | elapsed:  9.7min\n",
      "[Parallel(n_jobs=-1)]: Done 103511 tasks      | elapsed: 11.0min\n",
      "[Parallel(n_jobs=-1)]: Done 115503 tasks      | elapsed: 12.3min\n",
      "[Parallel(n_jobs=-1)]: Done 128135 tasks      | elapsed: 13.9min\n",
      "[Parallel(n_jobs=-1)]: Done 141423 tasks      | elapsed: 15.6min\n",
      "[Parallel(n_jobs=-1)]: Done 155351 tasks      | elapsed: 17.3min\n",
      "[Parallel(n_jobs=-1)]: Done 169935 tasks      | elapsed: 19.4min\n",
      "[Parallel(n_jobs=-1)]: Done 178176 out of 178176 | elapsed: 20.6min finished\n",
      "/Users/apple/opt/anaconda3/lib/python3.7/site-packages/sklearn/model_selection/_search.py:814: DeprecationWarning: The default of the `iid` parameter will change from True to False in version 0.22 and will be removed in 0.24. This will change numeric results when test-set sizes are unequal.\n",
      "  DeprecationWarning)\n"
     ]
    },
    {
     "data": {
      "text/plain": [
       "GridSearchCV(cv=3, error_score='raise-deprecating',\n",
       "             estimator=RandomForestClassifier(bootstrap=True, class_weight=None,\n",
       "                                              criterion='gini', max_depth=None,\n",
       "                                              max_features='auto',\n",
       "                                              max_leaf_nodes=None,\n",
       "                                              min_impurity_decrease=0.0,\n",
       "                                              min_impurity_split=None,\n",
       "                                              min_samples_leaf=1,\n",
       "                                              min_samples_split=2,\n",
       "                                              min_weight_fraction_leaf=0.0,\n",
       "                                              n_estimators='warn', n_jobs=None,\n",
       "                                              oob_score=Fa...\n",
       "                         'max_features': [1, 2, 3, 4, 5, 6, 7, 8, 9, 10, 11, 12,\n",
       "                                          13, 14, 15, 16, 17, 18, 19, 20, 21,\n",
       "                                          22, 23, 24, 25, 26, 27, 28, 29],\n",
       "                         'min_samples_leaf': array([0.01, 0.08, 0.15, 0.22, 0.29, 0.36, 0.43, 0.5 ]),\n",
       "                         'min_samples_split': array([0.05      , 0.15714286, 0.26428571, 0.37142857, 0.47857143,\n",
       "       0.58571429, 0.69285714, 0.8       ]),\n",
       "                         'n_estimators': [1, 2, 4, 8]},\n",
       "             pre_dispatch='2*n_jobs', refit=True, return_train_score=False,\n",
       "             scoring='f1', verbose=2)"
      ]
     },
     "execution_count": 456,
     "metadata": {},
     "output_type": "execute_result"
    }
   ],
   "source": [
    "grid_search.fit(X_train, Y_train)"
   ]
  },
  {
   "cell_type": "code",
   "execution_count": 457,
   "metadata": {},
   "outputs": [
    {
     "data": {
      "text/plain": [
       "{'max_depth': 7.0,\n",
       " 'max_features': 17,\n",
       " 'min_samples_leaf': 0.01,\n",
       " 'min_samples_split': 0.3714285714285714,\n",
       " 'n_estimators': 1}"
      ]
     },
     "execution_count": 457,
     "metadata": {},
     "output_type": "execute_result"
    }
   ],
   "source": [
    "grid_search.best_params_"
   ]
  },
  {
   "cell_type": "code",
   "execution_count": 458,
   "metadata": {},
   "outputs": [
    {
     "name": "stdout",
     "output_type": "stream",
     "text": [
      "Accuracy for train: 0.5618508026440038\n",
      "Precision for train: 0.5207547169811321\n",
      "Recall for train: 0.2905263157894737\n",
      "Accuracy for test: 0.5739514348785872\n",
      "Precision for test: 0.42727272727272725\n",
      "Recall for test: 0.2655367231638418\n"
     ]
    },
    {
     "data": {
      "image/png": "[encoded data removed]",
      "text/plain": [
       "<Figure size 432x288 with 1 Axes>"
      ]
     },
     "metadata": {
      "needs_background": "light"
     },
     "output_type": "display_data"
    }
   ],
   "source": [
    "# Using the best model:\n",
    "# Making predictions on the training set and display accuracy, precision and recall.\n",
    "# Making predictions on the testing set and display accuracy, precision and recall. \n",
    "# Plot ROC curve\n",
    "# Print AUC\n",
    "\n",
    "best_grid = grid_search.best_estimator_\n",
    "clf = best_grid.fit(X_train,Y_train)\n",
    "\n",
    "Y_pred_train = clf.predict(X_train)\n",
    "Y_pred_train\n",
    "\n",
    "print(\"Accuracy for train:\",accuracy_score(Y_train, Y_pred_train))\n",
    "print(\"Precision for train:\",precision_score(Y_train, Y_pred_train))\n",
    "print(\"Recall for train:\",recall_score(Y_train, Y_pred_train))\n",
    "\n",
    "Y_pred_test = clf.predict(X_test)\n",
    "Y_pred_test\n",
    "\n",
    "print(\"Accuracy for test:\",accuracy_score(Y_test, Y_pred_test))\n",
    "print(\"Precision for test:\",precision_score(Y_test, Y_pred_test))\n",
    "print(\"Recall for test:\",recall_score(Y_test, Y_pred_test))\n",
    "\n",
    "from sklearn.metrics import roc_curve\n",
    "from sklearn.metrics import auc\n",
    "\n",
    "probs_test = clf.predict_proba(X_test)\n",
    "preds_test = probs_test[:,1]\n",
    "fpr, tpr, threshold = roc_curve(Y_test, preds_test)\n",
    "roc_auc = auc(fpr, tpr)\n",
    "\n",
    "plt.title('Receiver Operating Characteristic')\n",
    "plt.plot(fpr, tpr, 'b', label = 'AUC = %0.2f' % roc_auc)\n",
    "plt.legend(loc = 'lower right')\n",
    "plt.plot([0, 1], [0, 1],'r--')\n",
    "plt.xlim([0, 1])\n",
    "plt.ylim([0, 1])\n",
    "plt.ylabel('True Positive Rate')\n",
    "plt.xlabel('False Positive Rate')\n",
    "plt.show()"
   ]
  },
  {
   "cell_type": "markdown",
   "metadata": {},
   "source": [
    "After seeing the results after hypertuning the parameters, it is visible that the Default Random Forests performed the best among all the different ML algorithms tried. Although the results are very promising but they still provide a very good lift compared to the baseline model. After getting more robust data and more variables, we can build an even better model which can be used to predict the win probability."
   ]
  },
  {
   "cell_type": "code",
   "execution_count": null,
   "metadata": {},
   "outputs": [],
   "source": []
  }
 ],
 "metadata": {
  "kernelspec": {
   "display_name": "Python 3",
   "language": "python",
   "name": "python3"
  },
  "language_info": {
   "codemirror_mode": {
    "name": "ipython",
    "version": 3
   },
   "file_extension": ".py",
   "mimetype": "text/x-python",
   "name": "python",
   "nbconvert_exporter": "python",
   "pygments_lexer": "ipython3",
   "version": "3.7.4"
  }
 },
 "nbformat": 4,
 "nbformat_minor": 2
}
